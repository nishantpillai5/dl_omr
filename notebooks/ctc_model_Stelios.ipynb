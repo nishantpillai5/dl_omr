{
 "cells": [
  {
   "cell_type": "code",
   "execution_count": 1,
   "metadata": {},
   "outputs": [
    {
     "ename": "ImportError",
     "evalue": "cannot import name 'CuDNNLSTM' from 'keras.layers.recurrent' (c:\\Users\\steli\\.conda\\envs\\tf-gpu\\lib\\site-packages\\keras\\layers\\recurrent.py)",
     "output_type": "error",
     "traceback": [
      "\u001b[1;31m---------------------------------------------------------------------------\u001b[0m",
      "\u001b[1;31mImportError\u001b[0m                               Traceback (most recent call last)",
      "\u001b[1;32mc:\\Users\\steli\\DeepLearning\\Project\\dl_omr\\notebooks\\ctc_model_Stelios.ipynb Cell 1'\u001b[0m in \u001b[0;36m<cell line: 7>\u001b[1;34m()\u001b[0m\n\u001b[0;32m      <a href='vscode-notebook-cell:/c%3A/Users/steli/DeepLearning/Project/dl_omr/notebooks/ctc_model_Stelios.ipynb#ch0000000?line=4'>5</a>\u001b[0m \u001b[39mfrom\u001b[39;00m \u001b[39mkeras\u001b[39;00m\u001b[39m.\u001b[39;00m\u001b[39mlayers\u001b[39;00m\u001b[39m.\u001b[39;00m\u001b[39mmerge\u001b[39;00m \u001b[39mimport\u001b[39;00m add, concatenate\n\u001b[0;32m      <a href='vscode-notebook-cell:/c%3A/Users/steli/DeepLearning/Project/dl_omr/notebooks/ctc_model_Stelios.ipynb#ch0000000?line=5'>6</a>\u001b[0m \u001b[39mfrom\u001b[39;00m \u001b[39mkeras\u001b[39;00m\u001b[39m.\u001b[39;00m\u001b[39mmodels\u001b[39;00m \u001b[39mimport\u001b[39;00m Model\n\u001b[1;32m----> <a href='vscode-notebook-cell:/c%3A/Users/steli/DeepLearning/Project/dl_omr/notebooks/ctc_model_Stelios.ipynb#ch0000000?line=6'>7</a>\u001b[0m \u001b[39mfrom\u001b[39;00m \u001b[39mkeras\u001b[39;00m\u001b[39m.\u001b[39;00m\u001b[39mlayers\u001b[39;00m\u001b[39m.\u001b[39;00m\u001b[39mrecurrent\u001b[39;00m \u001b[39mimport\u001b[39;00m LSTM, CuDNNLSTM\n\u001b[0;32m      <a href='vscode-notebook-cell:/c%3A/Users/steli/DeepLearning/Project/dl_omr/notebooks/ctc_model_Stelios.ipynb#ch0000000?line=7'>8</a>\u001b[0m \u001b[39mimport\u001b[39;00m \u001b[39mtensorflow\u001b[39;00m \u001b[39mas\u001b[39;00m \u001b[39mtf\u001b[39;00m\n\u001b[0;32m      <a href='vscode-notebook-cell:/c%3A/Users/steli/DeepLearning/Project/dl_omr/notebooks/ctc_model_Stelios.ipynb#ch0000000?line=8'>9</a>\u001b[0m \u001b[39mimport\u001b[39;00m \u001b[39mtensorflow\u001b[39;00m \u001b[39mas\u001b[39;00m \u001b[39mtf\u001b[39;00m\n",
      "\u001b[1;31mImportError\u001b[0m: cannot import name 'CuDNNLSTM' from 'keras.layers.recurrent' (c:\\Users\\steli\\.conda\\envs\\tf-gpu\\lib\\site-packages\\keras\\layers\\recurrent.py)"
     ]
    }
   ],
   "source": [
    "from keras import backend as K\n",
    "from keras.layers import Conv2D, MaxPooling2D\n",
    "from keras.layers import Input, Dense, Activation, LeakyReLU, Permute, Bidirectional\n",
    "from keras.layers import Reshape, Lambda, BatchNormalization\n",
    "from keras.layers.merge import add, concatenate\n",
    "from keras.models import Model\n",
    "from keras.layers.recurrent import LSTM, CuDNNLSTM\n",
    "import tensorflow as tf\n",
    "import tensorflow as tf\n",
    "from primus import CTC_PriMuS\n",
    "import ctc_utils\n",
    "import os\n",
    "import tensorflow as tf\n",
    "from primus import CTC_PriMuS\n",
    "import ctc_utils\n",
    "import os\n",
    "import cv2\n",
    "\n",
    "tf.config.list_physical_devices('GPU')\n",
    "tf.config.experimental.set_memory_growth(tf.config.experimental.list_physical_devices('GPU')[0], True)\n",
    "\n",
    "def default_model_params(img_height, vocabulary_size):\n",
    "    params = dict()\n",
    "    params['img_height'] = img_height\n",
    "    params['img_width'] = None\n",
    "    params['batch_size'] = 16\n",
    "    params['img_channels'] = 1\n",
    "    params['conv_blocks'] = 4\n",
    "    params['conv_filter_n'] = [32, 64, 128, 256]\n",
    "    params['conv_filter_size'] = [ [3,3], [3,3], [3,3], [3,3] ]\n",
    "    params['conv_pooling_size'] = [ [2,2], [2,2], [2,2], [2,2] ]\n",
    "    params['rnn_units'] = 128\n",
    "    params['rnn_layers'] = 2\n",
    "    params['vocabulary_size'] = vocabulary_size\n",
    "    return params\n",
    "\n",
    "# def ctc_loss(y_true, y_pred, input_length, label_length, real_y_true_ts):\n",
    "#     return tf.keras.backend.ctc_batch_cost(real_y_true_ts, y_pred, input_length, label_length)\n",
    "\n",
    "def ctc_lambda_func(args):\n",
    "    y_pred, labels, input_length, label_length = args\n",
    "    # FIXME: Why?\n",
    "    # the 2 is critical here since the first couple outputs of the RNN\n",
    "    # tend to be garbage:\n",
    "    y_pred = y_pred[:, 2:, :]\n",
    "    return K.ctc_batch_cost(labels, y_pred, input_length, label_length)\n",
    "\n",
    "def ctc_crnn(params, max_seq_len, width_rem = 128, training = True):\n",
    "    input_shape = (params['img_height'],params['img_width'], params['img_channels'])\n",
    "\n",
    "    inputs = Input(name='the_input', shape=input_shape, dtype='float32')\n",
    "    width_reduction = 1\n",
    "    height_reduction = 1\n",
    "\n",
    "    #conv2d layer\n",
    "    for i in range(params['conv_blocks']):\n",
    "            inner = Conv2D(params['conv_filter_n'][i], params['conv_filter_size'][i], padding='same', name='conv'+ str(i+1), kernel_initializer='he_normal')(inputs if i == 0 else inner)\n",
    "            inner = BatchNormalization()(inner)\n",
    "            inner = LeakyReLU(0.2)(inner)\n",
    "            inner = MaxPooling2D(pool_size=params['conv_pooling_size'][i], strides = params['conv_pooling_size'][i], name='max' + str(i+1))(inner)\n",
    "\n",
    "            width_reduction = width_reduction * params['conv_pooling_size'][i][1]\n",
    "            height_reduction = height_reduction * params['conv_pooling_size'][i][0]\n",
    "\n",
    "            \n",
    "    features = K.permute_dimensions(inner, (2,0,3,1))\n",
    "    feature_dim = params['conv_filter_n'][-1] * (params['img_height'] / height_reduction)\n",
    "    # feature_width = input_shape[1] / width_reduction\n",
    "    feature_width = width_rem / width_reduction\n",
    "    # features = tf.reshape(features, tf.stack([tf.cast(feature_width,'int32'), inputs.shape[0], tf.cast(feature_dim,'int32')]))\n",
    "    features = tf.reshape(features, tf.stack([tf.cast(feature_width,'int32'), 16, tf.cast(feature_dim,'int32')]))\n",
    "    \n",
    "    # RNN block\n",
    "    lstm_1 = LSTM(params['rnn_units'], return_sequences=True, kernel_initializer='he_normal', name='lstm1', dropout= 0.2)(features)  # (None, 32, 512)\n",
    "    lstm_1b = LSTM(params['rnn_units'], return_sequences=True, go_backwards=True, kernel_initializer='he_normal', name='lstm1_b', dropout= 0.2)(features)\n",
    "    reversed_lstm_1b = Lambda(lambda inputTensor: K.reverse(inputTensor, axes=1)) (lstm_1b)\n",
    "\n",
    "    lstm1_merged = add([lstm_1, reversed_lstm_1b])  # (None, 32, 512)\n",
    "    lstm1_merged = BatchNormalization()(lstm1_merged)\n",
    "    \n",
    "    lstm_2 = LSTM(params['rnn_units'], return_sequences=True, kernel_initializer='he_normal', name='lstm2', dropout= 0.2)(lstm1_merged)\n",
    "    lstm_2b = LSTM(params['rnn_units'], return_sequences=True, go_backwards=True, kernel_initializer='he_normal', name='lstm2_b', dropout= 0.2)(lstm1_merged)\n",
    "    reversed_lstm_2b= Lambda(lambda inputTensor: K.reverse(inputTensor, axes=1)) (lstm_2b)\n",
    "\n",
    "    lstm2_merged = concatenate([lstm_2, reversed_lstm_2b])  # (None, 32, 1024)\n",
    "    lstm2_merged = BatchNormalization()(lstm2_merged)\n",
    "\n",
    "    # transforms RNN output to character activations:\n",
    "    num_classes = params['vocabulary_size'] + 1\n",
    "    inner = Dense(num_classes, kernel_initializer='he_normal',name='dense2')(lstm2_merged) #(None, 32, 63)\n",
    "    y_pred = Activation('softmax', name='softmax')(inner)\n",
    "\n",
    "    # FIXME: Change based on data\n",
    "    labels = Input(name='the_labels', shape=[max_seq_len], dtype='float32') # (None ,8)\n",
    "    input_length = Input(name='input_length', shape=[1], dtype='int64')     # (None, 1)\n",
    "    label_length = Input(name='label_length', shape=[1], dtype='int64')     # (None, 1)\n",
    "\n",
    "    # Keras doesn't currently support loss funcs with extra parameters\n",
    "    # so CTC loss is implemented in a lambda layer\n",
    "    loss_out = Lambda(ctc_lambda_func, output_shape=(1,), name='ctc')([y_pred, labels, input_length, label_length]) #(None, 1)\n",
    "\n",
    "    if training:\n",
    "        return Model(inputs=[inputs, labels, input_length, label_length], outputs=loss_out)\n",
    "    else:\n",
    "        return Model(inputs=[inputs], outputs=y_pred)\n",
    "\n",
    "    # rnn_hidden_units = params['rnn_units']\n",
    "    # rnn_hidden_layers = params['rnn_layers']\n",
    "    # for i in range(rnn_hidden_layers):\n",
    "    #     inner = Bidirectional(LSTM(rnn_hidden_units,activation='softmax'))(features) # features if i == 0 else inner\n",
    "  \n",
    "    # inner = Dense(params['vocabulary_size'] + 1)(inner)\n",
    "    # y_pred = Activation('softmax', name='softmax')(inner)\n",
    "\n",
    "    # return Model(inputs=[inputs], outputs= lstm2_merged), loss_out\n",
    "\n",
    "    "
   ]
  },
  {
   "cell_type": "code",
   "execution_count": 61,
   "metadata": {},
   "outputs": [
    {
     "name": "stdout",
     "output_type": "stream",
     "text": [
      "Training with 70880 and validating with 7875\n"
     ]
    }
   ],
   "source": [
    "corpus_dirpath = \"C:/Users/steli/DeepLearning/Project/tf-end-to-end/Data/primusCalvoRizoAppliedSciences2018/\"\n",
    "corpus_filepath = \"C:/Users/steli/DeepLearning/Project/tf-end-to-end/Data/train.txt\"\n",
    "vocabulary = \"C:/Users/steli/DeepLearning/Project/tf-end-to-end/Data/vocabulary_semantic.txt\"\n",
    "primus = CTC_PriMuS(corpus_dirpath,corpus_filepath,vocabulary, True, val_split = 0.1)"
   ]
  },
  {
   "cell_type": "code",
   "execution_count": 62,
   "metadata": {},
   "outputs": [],
   "source": [
    "# Parameterization\n",
    "img_height = 128\n",
    "params = default_model_params(img_height,primus.vocabulary_size)\n",
    "max_epochs = 100\n",
    "dropout = 0.5\n",
    "\n",
    "# Model\n",
    "model = ctc_crnn(params,5)"
   ]
  },
  {
   "cell_type": "code",
   "execution_count": 63,
   "metadata": {},
   "outputs": [],
   "source": [
    "model.compile(optimizer=tf.keras.optimizers.Adam(learning_rate=1e-3), loss= {'ctc': lambda y_true, y_pred: y_pred})\n"
   ]
  },
  {
   "cell_type": "code",
   "execution_count": 53,
   "metadata": {},
   "outputs": [
    {
     "data": {
      "text/plain": [
       "{'img_height': 128,\n",
       " 'img_width': None,\n",
       " 'batch_size': 16,\n",
       " 'img_channels': 1,\n",
       " 'conv_blocks': 4,\n",
       " 'conv_filter_n': [32, 64, 128, 256],\n",
       " 'conv_filter_size': [[3, 3], [3, 3], [3, 3], [3, 3]],\n",
       " 'conv_pooling_size': [[2, 2], [2, 2], [2, 2], [2, 2]],\n",
       " 'rnn_units': 512,\n",
       " 'rnn_layers': 2,\n",
       " 'vocabulary_size': 1781}"
      ]
     },
     "execution_count": 53,
     "metadata": {},
     "output_type": "execute_result"
    }
   ],
   "source": [
    "params"
   ]
  },
  {
   "cell_type": "code",
   "execution_count": 54,
   "metadata": {},
   "outputs": [
    {
     "ename": "AttributeError",
     "evalue": "'NoneType' object has no attribute 'shape'",
     "output_type": "error",
     "traceback": [
      "\u001b[1;31m---------------------------------------------------------------------------\u001b[0m",
      "\u001b[1;31mAttributeError\u001b[0m                            Traceback (most recent call last)",
      "\u001b[1;32mc:\\Users\\steli\\DeepLearning\\Project\\dl_omr\\notebooks\\ctc_model_Stelios.ipynb Cell 6'\u001b[0m in \u001b[0;36m<cell line: 2>\u001b[1;34m()\u001b[0m\n\u001b[0;32m      <a href='vscode-notebook-cell:/c%3A/Users/steli/DeepLearning/Project/dl_omr/notebooks/ctc_model_Stelios.ipynb#ch0000006?line=0'>1</a>\u001b[0m testimg \u001b[39m=\u001b[39m cv2\u001b[39m.\u001b[39mimread(\u001b[39m\"\u001b[39m\u001b[39mC:/Users/steli/DeepLearning/Project/tf-end-to-end/Data/primusCalvoRizoAppliedSciences2018/package_aa/000051650-1_1_2/000051650-1_1_2.png\u001b[39m\u001b[39m\"\u001b[39m, cv2\u001b[39m.\u001b[39mIMREAD_GRAYSCALE)\n\u001b[1;32m----> <a href='vscode-notebook-cell:/c%3A/Users/steli/DeepLearning/Project/dl_omr/notebooks/ctc_model_Stelios.ipynb#ch0000006?line=1'>2</a>\u001b[0m testimg\u001b[39m.\u001b[39;49mshape\n",
      "\u001b[1;31mAttributeError\u001b[0m: 'NoneType' object has no attribute 'shape'"
     ]
    }
   ],
   "source": [
    "# testimg = cv2.imread(\"C:/Users/steli/DeepLearning/Project/tf-end-to-end/Data/primusCalvoRizoAppliedSciences2018/package_aa/000051650-1_1_2/000051650-1_1_2.png\", cv2.IMREAD_GRAYSCALE)\n",
    "# testimg.shape"
   ]
  },
  {
   "cell_type": "code",
   "execution_count": 64,
   "metadata": {},
   "outputs": [
    {
     "ename": "MemoryError",
     "evalue": "Unable to allocate 1.04 MiB for an array with shape (128, 1067) and data type float64",
     "output_type": "error",
     "traceback": [
      "\u001b[1;31m---------------------------------------------------------------------------\u001b[0m",
      "\u001b[1;31mMemoryError\u001b[0m                               Traceback (most recent call last)",
      "\u001b[1;32mc:\\Users\\steli\\DeepLearning\\Project\\dl_omr\\notebooks\\ctc_model_Stelios.ipynb Cell 7'\u001b[0m in \u001b[0;36m<cell line: 1>\u001b[1;34m()\u001b[0m\n\u001b[1;32m----> <a href='vscode-notebook-cell:/c%3A/Users/steli/DeepLearning/Project/dl_omr/notebooks/ctc_model_Stelios.ipynb#ch0000004?line=0'>1</a>\u001b[0m val_data, val_len \u001b[39m=\u001b[39m primus\u001b[39m.\u001b[39;49mgetValidation(params)\n\u001b[0;32m      <a href='vscode-notebook-cell:/c%3A/Users/steli/DeepLearning/Project/dl_omr/notebooks/ctc_model_Stelios.ipynb#ch0000004?line=2'>3</a>\u001b[0m model\u001b[39m.\u001b[39mfit_generator(generator\u001b[39m=\u001b[39mprimus\u001b[39m.\u001b[39mnextBatch(params),\n\u001b[0;32m      <a href='vscode-notebook-cell:/c%3A/Users/steli/DeepLearning/Project/dl_omr/notebooks/ctc_model_Stelios.ipynb#ch0000004?line=3'>4</a>\u001b[0m                     steps_per_epoch\u001b[39m=\u001b[39m\u001b[39mint\u001b[39m(\u001b[39mlen\u001b[39m(primus\u001b[39m.\u001b[39mtraining_list) \u001b[39m/\u001b[39m params[\u001b[39m'\u001b[39m\u001b[39mbatch_size\u001b[39m\u001b[39m'\u001b[39m]),\n\u001b[0;32m      <a href='vscode-notebook-cell:/c%3A/Users/steli/DeepLearning/Project/dl_omr/notebooks/ctc_model_Stelios.ipynb#ch0000004?line=4'>5</a>\u001b[0m                     epochs\u001b[39m=\u001b[39mmax_epochs,\n\u001b[0;32m      <a href='vscode-notebook-cell:/c%3A/Users/steli/DeepLearning/Project/dl_omr/notebooks/ctc_model_Stelios.ipynb#ch0000004?line=5'>6</a>\u001b[0m                     validation_data\u001b[39m=\u001b[39m val_data, \u001b[39m# FIXME: unsure\u001b[39;00m\n\u001b[0;32m      <a href='vscode-notebook-cell:/c%3A/Users/steli/DeepLearning/Project/dl_omr/notebooks/ctc_model_Stelios.ipynb#ch0000004?line=6'>7</a>\u001b[0m                     validation_steps\u001b[39m=\u001b[39m\u001b[39mint\u001b[39m(val_len \u001b[39m/\u001b[39m params[\u001b[39m'\u001b[39m\u001b[39mbatch_size\u001b[39m\u001b[39m'\u001b[39m]))\n",
      "File \u001b[1;32mc:\\Users\\steli\\DeepLearning\\Project\\dl_omr\\notebooks\\primus.py:120\u001b[0m, in \u001b[0;36mCTC_PriMuS.getValidation\u001b[1;34m(self, params)\u001b[0m\n\u001b[0;32m    <a href='file:///c%3A/Users/steli/DeepLearning/Project/dl_omr/notebooks/primus.py?line=117'>118</a>\u001b[0m height \u001b[39m=\u001b[39m params[\u001b[39m'\u001b[39m\u001b[39mimg_height\u001b[39m\u001b[39m'\u001b[39m]\n\u001b[0;32m    <a href='file:///c%3A/Users/steli/DeepLearning/Project/dl_omr/notebooks/primus.py?line=118'>119</a>\u001b[0m sample_img \u001b[39m=\u001b[39m ctc_utils\u001b[39m.\u001b[39mresize(sample_img,height)\n\u001b[1;32m--> <a href='file:///c%3A/Users/steli/DeepLearning/Project/dl_omr/notebooks/primus.py?line=119'>120</a>\u001b[0m images\u001b[39m.\u001b[39mappend(ctc_utils\u001b[39m.\u001b[39;49mnormalize(sample_img))\n\u001b[0;32m    <a href='file:///c%3A/Users/steli/DeepLearning/Project/dl_omr/notebooks/primus.py?line=121'>122</a>\u001b[0m \u001b[39m# GROUND TRUTH\u001b[39;00m\n\u001b[0;32m    <a href='file:///c%3A/Users/steli/DeepLearning/Project/dl_omr/notebooks/primus.py?line=122'>123</a>\u001b[0m \u001b[39mif\u001b[39;00m \u001b[39mself\u001b[39m\u001b[39m.\u001b[39msemantic:\n",
      "File \u001b[1;32mc:\\Users\\steli\\DeepLearning\\Project\\dl_omr\\notebooks\\ctc_utils.py:140\u001b[0m, in \u001b[0;36mnormalize\u001b[1;34m(image)\u001b[0m\n\u001b[0;32m    <a href='file:///c%3A/Users/steli/DeepLearning/Project/dl_omr/notebooks/ctc_utils.py?line=138'>139</a>\u001b[0m \u001b[39mdef\u001b[39;00m \u001b[39mnormalize\u001b[39m(image):\n\u001b[1;32m--> <a href='file:///c%3A/Users/steli/DeepLearning/Project/dl_omr/notebooks/ctc_utils.py?line=139'>140</a>\u001b[0m     \u001b[39mreturn\u001b[39;00m (\u001b[39m255.\u001b[39;49m \u001b[39m-\u001b[39;49m image)\u001b[39m/\u001b[39;49m\u001b[39m255.\u001b[39;49m\n",
      "\u001b[1;31mMemoryError\u001b[0m: Unable to allocate 1.04 MiB for an array with shape (128, 1067) and data type float64"
     ]
    }
   ],
   "source": [
    "\n",
    "val_data, val_len = primus.getValidation(params)\n",
    "\n",
    "model.fit_generator(generator=primus.nextBatch(params),\n",
    "                    steps_per_epoch=int(len(primus.training_list) / params['batch_size']),\n",
    "                    epochs=max_epochs,\n",
    "                    validation_data= val_data, # FIXME: unsure\n",
    "                    validation_steps=int(val_len / params['batch_size']))"
   ]
  }
 ],
 "metadata": {
  "interpreter": {
   "hash": "e9bbe03f6c4bbdf56f443191d16980388af1b731aba7be9951b0256cee325895"
  },
  "kernelspec": {
   "display_name": "Python 3.10.4 ('tf-gpu')",
   "language": "python",
   "name": "python3"
  },
  "language_info": {
   "codemirror_mode": {
    "name": "ipython",
    "version": 3
   },
   "file_extension": ".py",
   "mimetype": "text/x-python",
   "name": "python",
   "nbconvert_exporter": "python",
   "pygments_lexer": "ipython3",
   "version": "3.10.4"
  },
  "orig_nbformat": 4
 },
 "nbformat": 4,
 "nbformat_minor": 2
}
