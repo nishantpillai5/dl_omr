{
 "cells": [
  {
   "cell_type": "markdown",
   "metadata": {},
   "source": [
    "# End to End Optical Music Recognition with CRNN"
   ]
  },
  {
   "cell_type": "code",
   "execution_count": 38,
   "metadata": {},
   "outputs": [
    {
     "name": "stdout",
     "output_type": "stream",
     "text": [
      "The tensorboard extension is already loaded. To reload it, use:\n",
      "  %reload_ext tensorboard\n"
     ]
    }
   ],
   "source": [
    "%load_ext tensorboard"
   ]
  },
  {
   "cell_type": "markdown",
   "metadata": {},
   "source": [
    "## Importing libraries"
   ]
  },
  {
   "cell_type": "code",
   "execution_count": 39,
   "metadata": {},
   "outputs": [],
   "source": [
    "import tensorflow as tf\n",
    "import tensorflow.keras.backend as K\n",
    "from tensorflow.keras import layers\n",
    "from tensorflow import keras\n",
    "from tensorflow.keras.models import Model\n",
    "import cv2\n",
    "import numpy as np\n",
    "from tensorflow.keras.preprocessing.sequence import pad_sequences\n",
    "import matplotlib.pyplot as plt\n",
    "import jiwer\n",
    "import datetime"
   ]
  },
  {
   "cell_type": "code",
   "execution_count": 40,
   "metadata": {},
   "outputs": [],
   "source": [
    "tf.config.list_physical_devices('GPU')\n",
    "tf.config.experimental.set_memory_growth(tf.config.experimental.list_physical_devices('GPU')[0], True)"
   ]
  },
  {
   "cell_type": "markdown",
   "metadata": {},
   "source": [
    "## Loading Dataset"
   ]
  },
  {
   "cell_type": "code",
   "execution_count": 41,
   "metadata": {},
   "outputs": [],
   "source": [
    "CORPUS_DIRPATH = \"C:/Users/steli/DeepLearning/Project/tf-end-to-end/Data/primusCalvoRizoAppliedSciences2018/\"\n",
    "CORPUS_FILEPATH = \"C:/Users/steli/DeepLearning/Project/tf-end-to-end/Data/train.txt\"\n",
    "TEST_SET_PATH = \"C:/Users/steli/DeepLearning/Project/tf-end-to-end/Data/test.txt\"\n",
    "DICTIONARY_PATH = \"C:/Users/steli/DeepLearning/Project/tf-end-to-end/Data/vocabulary_semantic.txt\""
   ]
  },
  {
   "cell_type": "code",
   "execution_count": 42,
   "metadata": {},
   "outputs": [],
   "source": [
    "# # delete N lines from the train/test txt files for training purposes\n",
    "# with open(r\"C:/Users/steli/DeepLearning/Project/tf-end-to-end/Data/train.txt\", 'r+') as fp:\n",
    "#     lines = fp.readlines()\n",
    "#     t = int(len(lines))\n",
    "#     print(t)\n",
    "#     # print(len(lines))\n",
    "#     fp.seek(0)\n",
    "#     fp.truncate()\n",
    "#     fp.writelines(lines[:-200])"
   ]
  },
  {
   "cell_type": "code",
   "execution_count": 43,
   "metadata": {},
   "outputs": [],
   "source": [
    "# Get data\n",
    "image_paths = []\n",
    "image_texts = []\n",
    "\n",
    "class PriMuS_Data:\n",
    "    def __init__(self, corpus_dirpath, corpus_filepath, test_set_filepath, dictionary_path):\n",
    "        self.corpus_dirpath = corpus_dirpath\n",
    "\n",
    "        # Reading corpus\n",
    "        corpus_file = open(corpus_filepath,'r')\n",
    "        self.corpus_list = corpus_file.read().splitlines()\n",
    "        corpus_file.close()\n",
    "\n",
    "        # Reading test set\n",
    "        test_set_file = open(test_set_filepath,'r')\n",
    "        self.test_set_list = test_set_file.read().splitlines()\n",
    "        test_set_file.close()\n",
    "\n",
    "        # Reading vocabulary\n",
    "        self.word2int = {}\n",
    "        self.int2word = {}\n",
    "            \n",
    "        dict_file = open(dictionary_path,'r')\n",
    "        dict_list = dict_file.read().splitlines()\n",
    "        for word in dict_list:\n",
    "            if not word in self.word2int:\n",
    "                word_idx = len(self.word2int)\n",
    "                self.word2int[word] = word_idx\n",
    "                self.int2word[word_idx] = word\n",
    "\n",
    "        dict_file.close()\n",
    "        self.vocabulary_size = len(self.word2int)\n",
    "        self.vocabulary = {\"int2word\": self.int2word, \"word2int\": self.word2int}\n",
    "    \n",
    "    def parse_text_pathfiles(self, filepaths):\n",
    "        content = []\n",
    "        for path in filepaths:\n",
    "            with open(path, \"r\") as file:\n",
    "                content.append(file.readline().split())\n",
    "\n",
    "        content = self.encode_seqs(content)\n",
    "        padded_content = pad_sequences(content, maxlen=self.max_label_len, padding='post', value= self.vocabulary_size + 1)\n",
    "        return padded_content\n",
    "\n",
    "    def generate_dataset(self, val_split = 0.9):\n",
    "        image_paths = [self.corpus_dirpath+f\"{x}/{x}.png\" for x in self.corpus_list] \n",
    "        text_paths = [self.corpus_dirpath+f\"{x}/{x}.semantic\" for x in self.corpus_list]\n",
    "\n",
    "        test_image_paths = [self.corpus_dirpath+f\"{x}/{x}.png\" for x in self.test_set_list] \n",
    "        test_text_paths = [self.corpus_dirpath+f\"{x}/{x}.semantic\" for x in self.test_set_list]\n",
    "\n",
    "        train_image_paths = image_paths[ : int(len(image_paths) * val_split)]\n",
    "        val_image_paths = image_paths[int(len(image_paths) * val_split) : ]\n",
    "\n",
    "        train_text_paths = text_paths[ : int(len(text_paths) * val_split)]\n",
    "        val_text_paths = text_paths[int(len(text_paths) * val_split) : ]\n",
    "\n",
    "        # Generating metadata\n",
    "        self.max_image_width = 0\n",
    "        self.max_label_len = 0\n",
    "\n",
    "        for img in image_paths + test_image_paths:\n",
    "            width = cv2.imread(img).shape[1]\n",
    "            if width > self.max_image_width:\n",
    "                self.max_image_width = width\n",
    "\n",
    "        for path in text_paths + test_text_paths:\n",
    "            with open(path, \"r\") as file:\n",
    "                label_len = len(file.readline().split())\n",
    "                if label_len > self.max_label_len:\n",
    "                    self.max_label_len = label_len\n",
    "        \n",
    "        metadata = {\"metadata\":{\"max_label_len\":self.max_label_len,\n",
    "                                \"max_image_width\":self.max_image_width}\n",
    "        }\n",
    "\n",
    "        train_text_content = self.parse_text_pathfiles(train_text_paths)\n",
    "        val_text_content = self.parse_text_pathfiles(val_text_paths)\n",
    "        test_text_content = self.parse_text_pathfiles(test_text_paths)\n",
    "\n",
    "        #Pass text_paths instead text_content to save memory\n",
    "        \n",
    "        data = {\"train\": {\"images\":train_image_paths, \"text\": train_text_content}, \n",
    "                \"val\":   {\"images\":val_image_paths, \"text\": val_text_content}, \n",
    "                \"test\":  {\"images\":test_image_paths, \"text\": test_text_content}\n",
    "        }\n",
    "\n",
    "        return {**data, **metadata}\n",
    "\n",
    "    # Encodes single sample\n",
    "    def encoder(self, seq): # \"clef\\tC-note\" -> [1,2,3,4,..]\n",
    "        new_seq=[]\n",
    "        for sym in seq:\n",
    "            new_seq.append(self.word2int[sym])\n",
    "        return new_seq\n",
    "\n",
    "    def decoder(self, seq): # [1,2,3,4,..] -> \"clef\\tC-note\"\n",
    "        new_seq=\"\"\n",
    "        for sym in seq:\n",
    "            try:\n",
    "                new_seq+= self.int2word[sym] + \"\\t\"\n",
    "            except KeyError:\n",
    "                continue\n",
    "        new_seq = new_seq[:-1]\n",
    "        return new_seq\n",
    "\n",
    "    # Encodes multiple samples\n",
    "    def encode_seqs(self, seqs):\n",
    "        encoded = []\n",
    "        for seq in seqs:\n",
    "            encoded.append(self.encoder(seq))\n",
    "        return encoded\n",
    "\n",
    "    # Decodes multiple samples\n",
    "    def decode_seqs(self, seqs): \n",
    "        decoded = []\n",
    "        for seq in seqs:\n",
    "            decoded.append(self.decoder(seq))\n",
    "        return decoded\n",
    "\n",
    "    # Converts predictions into string sequences\n",
    "    def prediction_decoder(self, preds):\n",
    "        # Taking maximum of the vocabulary probabilities\n",
    "        pred_indcies = np.argmax(preds, axis=2)\n",
    "        decoded_pred = self.decode_seqs(pred_indcies)\n",
    "        return decoded_pred\n",
    "\n",
    "    # Converts truth from filepaths into string sequences\n",
    "    def ground_truth_decoder(self, truths):\n",
    "        #Read values from filepath if truth is filepath for memory efficiency\n",
    "        return self.decode_seqs(truths)"
   ]
  },
  {
   "cell_type": "code",
   "execution_count": 44,
   "metadata": {},
   "outputs": [],
   "source": [
    "data_obj = PriMuS_Data(CORPUS_DIRPATH, CORPUS_FILEPATH, TEST_SET_PATH, DICTIONARY_PATH)\n",
    "data = data_obj.generate_dataset()"
   ]
  },
  {
   "cell_type": "markdown",
   "metadata": {},
   "source": [
    "## Building the model"
   ]
  },
  {
   "cell_type": "markdown",
   "metadata": {},
   "source": [
    "### Model Parameters"
   ]
  },
  {
   "cell_type": "code",
   "execution_count": 45,
   "metadata": {},
   "outputs": [],
   "source": [
    "def default_model_params(img_height, vocabulary_size):\n",
    "    params = dict()\n",
    "    params['img_height'] = img_height\n",
    "    params['img_width'] = None\n",
    "    params['batch_size'] = 16\n",
    "    params['img_channels'] = 1\n",
    "    params['conv_blocks'] = 2\n",
    "    params['conv_filter_n'] = [32, 64]\n",
    "    params['conv_filter_size'] = [ [3,3], [3,3] ]\n",
    "    params['conv_pooling_size'] = [ [2,2], [2,2] ]\n",
    "    params['rnn_units'] = 32\n",
    "    params['rnn_layers'] = 1\n",
    "    params['vocabulary_size'] = vocabulary_size\n",
    "    return params"
   ]
  },
  {
   "cell_type": "markdown",
   "metadata": {},
   "source": [
    "### Custom CTC Loss Layer"
   ]
  },
  {
   "cell_type": "code",
   "execution_count": 46,
   "metadata": {},
   "outputs": [],
   "source": [
    "class CTCLayer(layers.Layer):\n",
    "    def __init__(self, name=None):\n",
    "        super().__init__(name=name)\n",
    "        self.loss_fn = K.ctc_batch_cost\n",
    "\n",
    "    def call(self, y_true, y_pred):\n",
    "        batch_len = tf.cast(tf.shape(y_true)[0], dtype=\"int64\")\n",
    "        input_length = tf.cast(tf.shape(y_pred)[1], dtype=\"int64\")\n",
    "        label_length = tf.cast(tf.shape(y_true)[1], dtype=\"int64\")\n",
    "\n",
    "        input_length = input_length * tf.ones(shape=(batch_len, 1), dtype=\"int64\") # 16\n",
    "        label_length = label_length * tf.ones(shape=(batch_len, 1), dtype=\"int64\")\n",
    "        loss = self.loss_fn(y_true, y_pred, input_length, label_length)\n",
    "        self.add_loss(loss)\n",
    "\n",
    "        return y_pred"
   ]
  },
  {
   "cell_type": "markdown",
   "metadata": {},
   "source": [
    "### Evaluation functions"
   ]
  },
  {
   "cell_type": "code",
   "execution_count": 47,
   "metadata": {},
   "outputs": [],
   "source": [
    "# Symbol error rate\n",
    "def ser(y_true, y_pred):\n",
    "    y_true = data_obj.ground_truth_decoder([y_true])[0]\n",
    "    y_true = jiwer.RemoveWhiteSpace(replace_by_space=True)(y_true)\n",
    "    y_pred = jiwer.RemoveWhiteSpace(replace_by_space=True)(y_pred)\n",
    "    error = jiwer.wer(y_true, y_pred)\n",
    "    return error\n",
    "\n",
    "# Symbol accuracy\n",
    "def sacc(y_true, y_pred):\n",
    "    return 1-ser(y_true, y_pred)"
   ]
  },
  {
   "cell_type": "markdown",
   "metadata": {},
   "source": [
    "### Model"
   ]
  },
  {
   "cell_type": "code",
   "execution_count": 48,
   "metadata": {},
   "outputs": [],
   "source": [
    "def build_model(params, input_width, rnn_layers = 2, rnn_units = 128, dropout_rate=0.35):\n",
    "\n",
    "    inputs = layers.Input(type_spec=tf.TensorSpec(shape=[None, params['img_height'], input_width, params['img_channels']], \n",
    "                                                  dtype=tf.float32), \n",
    "                                                  name = \"image\")\n",
    "\n",
    "    labels = layers.Input(type_spec=tf.TensorSpec(shape=[None, None], dtype=tf.float32), name = \"label\" )\n",
    "    x = layers.Conv2D(\n",
    "        filters=32,\n",
    "        kernel_size= [params['conv_filter_n'][0], params['conv_filter_n'][0]],\n",
    "        strides=[2, 2],\n",
    "        padding=\"same\",\n",
    "        use_bias=False,\n",
    "        name=\"conv_1\",\n",
    "    )(inputs)\n",
    "    x = layers.BatchNormalization(name=\"conv_1_bn\")(x)\n",
    "    x = layers.ReLU(name=\"conv_1_relu\")(x)\n",
    "    x = layers.MaxPool2D(pool_size=params['conv_pooling_size'][0], strides = params['conv_pooling_size'][0], name='max1')(x)\n",
    "\n",
    "    x = layers.Conv2D(\n",
    "        filters=64,\n",
    "        kernel_size=[params['conv_filter_n'][1], params['conv_filter_n'][1]],\n",
    "        strides=[1, 2],\n",
    "        padding=\"same\",\n",
    "        use_bias=False,\n",
    "        name=\"conv_2\",\n",
    "    )(x)\n",
    "    x = layers.BatchNormalization(name=\"conv_2_bn\")(x)\n",
    "    x = layers.ReLU(name=\"conv_2_relu\")(x)\n",
    "    x = layers.MaxPool2D(pool_size=params['conv_pooling_size'][1], strides = params['conv_pooling_size'][1], name='max2')(x)\n",
    "    # print(x.shape)\n",
    "\n",
    "    \n",
    "    x = layers.Reshape((-1, x.shape[-3] * x.shape[-1]))(x)\n",
    "\n",
    "    for i in range(1, rnn_layers + 1):\n",
    "        recurrent = layers.GRU(\n",
    "            units=rnn_units,\n",
    "            activation=\"tanh\",\n",
    "            recurrent_activation=\"sigmoid\",\n",
    "            use_bias=True,\n",
    "            return_sequences=True,\n",
    "            reset_after=True,\n",
    "            name=f\"gru_{i}\",\n",
    "        )\n",
    "        x = layers.Bidirectional(\n",
    "            recurrent, name=f\"bidirectional_{i}\", merge_mode=\"concat\"\n",
    "        )(x)\n",
    "        if i < rnn_layers:\n",
    "            x = layers.Dropout(rate=dropout_rate)(x)\n",
    "\n",
    "    num_classes = params['vocabulary_size'] + 1\n",
    "    y_pred = layers.Dense(num_classes, kernel_initializer='he_normal',name='dense2', activation='softmax')(x) #(None, 32, 63)        \n",
    "\n",
    "    output = CTCLayer(name=\"ctc_loss\")(labels, y_pred)\n",
    "    model = Model([inputs,labels], output, name=\"OMR\")\n",
    "\n",
    "    optimizer = tf.keras.optimizers.Adam(learning_rate=0.001, beta_1=0.9, beta_2=0.999, clipnorm=1.0)\n",
    "    model.compile(optimizer = optimizer, metrics=[sacc])\n",
    "    \n",
    "    return model"
   ]
  },
  {
   "cell_type": "markdown",
   "metadata": {},
   "source": [
    "### Initializing Model"
   ]
  },
  {
   "cell_type": "code",
   "execution_count": 49,
   "metadata": {},
   "outputs": [],
   "source": [
    "# Parameters\n",
    "IMG_HEIGHT = 128\n",
    "DROPOUT_RATE = 0.5 # or 0.35\n",
    "\n",
    "params = default_model_params(IMG_HEIGHT, data_obj.vocabulary_size)\n",
    "\n",
    "# Model\n",
    "model = build_model(params, input_width = data_obj.max_image_width, dropout_rate = DROPOUT_RATE)"
   ]
  },
  {
   "cell_type": "code",
   "execution_count": 50,
   "metadata": {},
   "outputs": [
    {
     "name": "stdout",
     "output_type": "stream",
     "text": [
      "Model: \"OMR\"\n",
      "__________________________________________________________________________________________________\n",
      " Layer (type)                   Output Shape         Param #     Connected to                     \n",
      "==================================================================================================\n",
      " image (InputLayer)             [(None, 128, 2003,   0           []                               \n",
      "                                1)]                                                               \n",
      "                                                                                                  \n",
      " conv_1 (Conv2D)                (None, 64, 1002, 32  32768       ['image[0][0]']                  \n",
      "                                )                                                                 \n",
      "                                                                                                  \n",
      " conv_1_bn (BatchNormalization)  (None, 64, 1002, 32  128        ['conv_1[0][0]']                 \n",
      "                                )                                                                 \n",
      "                                                                                                  \n",
      " conv_1_relu (ReLU)             (None, 64, 1002, 32  0           ['conv_1_bn[0][0]']              \n",
      "                                )                                                                 \n",
      "                                                                                                  \n",
      " max1 (MaxPooling2D)            (None, 32, 501, 32)  0           ['conv_1_relu[0][0]']            \n",
      "                                                                                                  \n",
      " conv_2 (Conv2D)                (None, 32, 251, 64)  8388608     ['max1[0][0]']                   \n",
      "                                                                                                  \n",
      " conv_2_bn (BatchNormalization)  (None, 32, 251, 64)  256        ['conv_2[0][0]']                 \n",
      "                                                                                                  \n",
      " conv_2_relu (ReLU)             (None, 32, 251, 64)  0           ['conv_2_bn[0][0]']              \n",
      "                                                                                                  \n",
      " max2 (MaxPooling2D)            (None, 16, 125, 64)  0           ['conv_2_relu[0][0]']            \n",
      "                                                                                                  \n",
      " reshape_1 (Reshape)            (None, 125, 1024)    0           ['max2[0][0]']                   \n",
      "                                                                                                  \n",
      " bidirectional_1 (Bidirectional  (None, 125, 256)    886272      ['reshape_1[0][0]']              \n",
      " )                                                                                                \n",
      "                                                                                                  \n",
      " dropout_1 (Dropout)            (None, 125, 256)     0           ['bidirectional_1[0][0]']        \n",
      "                                                                                                  \n",
      " bidirectional_2 (Bidirectional  (None, 125, 256)    296448      ['dropout_1[0][0]']              \n",
      " )                                                                                                \n",
      "                                                                                                  \n",
      " label (InputLayer)             [(None, None)]       0           []                               \n",
      "                                                                                                  \n",
      " dense2 (Dense)                 (None, 125, 1782)    457974      ['bidirectional_2[0][0]']        \n",
      "                                                                                                  \n",
      " ctc_loss (CTCLayer)            (None, 125, 1782)    0           ['label[0][0]',                  \n",
      "                                                                  'dense2[0][0]']                 \n",
      "                                                                                                  \n",
      "==================================================================================================\n",
      "Total params: 10,062,454\n",
      "Trainable params: 10,062,262\n",
      "Non-trainable params: 192\n",
      "__________________________________________________________________________________________________\n"
     ]
    }
   ],
   "source": [
    "model.summary()"
   ]
  },
  {
   "cell_type": "markdown",
   "metadata": {},
   "source": [
    "## Preprocessing data for training"
   ]
  },
  {
   "cell_type": "code",
   "execution_count": 51,
   "metadata": {},
   "outputs": [],
   "source": [
    "# Pre-process a single image sample(resize/normalize/max_width resize)\n",
    "def process_single_sample(img_path, label,max_width = 30):\n",
    "    # Reading image\n",
    "    img = tf.io.read_file(img_path) \n",
    "    img = tf.io.decode_png(img, channels=1) # Decoding and convert to grayscale\n",
    "    img = tf.image.convert_image_dtype(img, tf.float32) # Converting to float32 in [0, 1] range\n",
    "    img = tf.image.resize(img,[params['img_height'], data_obj.max_image_width]) # Resizing \n",
    "\n",
    "    return {\"image\": img, \"label\": label}\n",
    "\n",
    "# Trying to fix memory issue by using filepaths in label\n",
    "def process_single_sample_mem_fixed(img_path, label):\n",
    "    # Reading image\n",
    "    img = tf.io.read_file(img_path) \n",
    "    img = tf.io.decode_png(img, channels=1) # Decoding and convert to grayscale\n",
    "    img = tf.image.convert_image_dtype(img, tf.float32) # Converting to float32 in [0, 1] range\n",
    "    img = tf.image.resize(img,[params['img_height'], data_obj.max_image_width]) # Resizing \n",
    "\n",
    "    # Reading text file\n",
    "    with open(label, \"r\") as file: \n",
    "        label = file.readline().split()\n",
    "        image_text = data_obj.encoder(label)\n",
    "        padded_image_text = pad_sequences([image_text], \n",
    "                                          maxlen = data_obj.max_label_len, \n",
    "                                          padding ='post', \n",
    "                                          value = data_obj.vocabulary_size + 1)\n",
    "        label = padded_image_text[0]\n",
    "    return {\"image\": img, \"label\": label}\n",
    "\n",
    "# Data generator\n",
    "def tfdata_generator(data, batch_size=params['batch_size']):\n",
    "  '''Construct a data generator using `tf.Dataset`. '''\n",
    "  dataset = tf.data.Dataset.from_tensor_slices((data['images'], data['text']))\n",
    "  dataset = dataset.map(process_single_sample)\n",
    "  dataset = dataset.batch(batch_size)\n",
    "  # train_dataset = train_dataset.repeat()\n",
    "  dataset = dataset.prefetch(tf.data.experimental.AUTOTUNE)\n",
    "  return dataset"
   ]
  },
  {
   "cell_type": "code",
   "execution_count": 52,
   "metadata": {},
   "outputs": [],
   "source": [
    "train_dataset = tfdata_generator(data[\"train\"])\n",
    "validation_dataset = tfdata_generator(data[\"val\"])\n",
    "test_dataset = tfdata_generator(data[\"test\"])"
   ]
  },
  {
   "cell_type": "markdown",
   "metadata": {},
   "source": [
    "## Training the model"
   ]
  },
  {
   "cell_type": "code",
   "execution_count": 53,
   "metadata": {},
   "outputs": [],
   "source": [
    "EPOCHS = 50"
   ]
  },
  {
   "cell_type": "code",
   "execution_count": 54,
   "metadata": {},
   "outputs": [],
   "source": [
    "LOG_DIR = \"../data/logs/fit/\" + datetime.datetime.now().strftime(\"%Y%m%d-%H%M%S\")\n",
    "\n",
    "MODEL_FILEPATH = f\"../models/model_e{EPOCHS}.ckpt\""
   ]
  },
  {
   "cell_type": "code",
   "execution_count": 55,
   "metadata": {},
   "outputs": [],
   "source": [
    "\n",
    "my_callbacks = [\n",
    "    tf.keras.callbacks.ModelCheckpoint(filepath=MODEL_FILEPATH, save_weights_only=True, save_best_only = True , verbose= 1),\n",
    "    tf.keras.callbacks.TensorBoard(log_dir=LOG_DIR),\n",
    "]"
   ]
  },
  {
   "cell_type": "code",
   "execution_count": 56,
   "metadata": {},
   "outputs": [],
   "source": [
    "\n",
    "# history = model.fit(\n",
    "#     train_dataset,\n",
    "#     validation_data = validation_dataset,\n",
    "#     epochs=EPOCHS,\n",
    "#     callbacks=my_callbacks\n",
    "# )\n"
   ]
  },
  {
   "cell_type": "code",
   "execution_count": 57,
   "metadata": {},
   "outputs": [],
   "source": [
    "# Save model\n",
    "# model.save_weights(\"../models/model_500epoch.ckpt\")"
   ]
  },
  {
   "cell_type": "markdown",
   "metadata": {},
   "source": [
    "### Tensorboard"
   ]
  },
  {
   "cell_type": "code",
   "execution_count": 58,
   "metadata": {},
   "outputs": [],
   "source": [
    "# %tensorboard --logdir ../data/logs/fit"
   ]
  },
  {
   "cell_type": "code",
   "execution_count": 59,
   "metadata": {},
   "outputs": [],
   "source": [
    "# !tensorboard dev upload \\\n",
    "#   --logdir logs/fit \\\n",
    "#   --name \"DL OMR\" \\\n",
    "#   --description \"Optical Music Recognition with CRNN\" \\\n",
    "#   --one_shot"
   ]
  },
  {
   "cell_type": "markdown",
   "metadata": {},
   "source": [
    "### Loading the model"
   ]
  },
  {
   "cell_type": "code",
   "execution_count": 61,
   "metadata": {},
   "outputs": [
    {
     "data": {
      "text/plain": [
       "<tensorflow.python.training.tracking.util.CheckpointLoadStatus at 0x1a135888910>"
      ]
     },
     "execution_count": 61,
     "metadata": {},
     "output_type": "execute_result"
    }
   ],
   "source": [
    "# Load model\n",
    "model.load_weights(MODEL_FILEPATH)"
   ]
  },
  {
   "cell_type": "markdown",
   "metadata": {},
   "source": [
    "## Predicting on test data"
   ]
  },
  {
   "cell_type": "code",
   "execution_count": 73,
   "metadata": {},
   "outputs": [
    {
     "data": {
      "text/plain": [
       "['clef-C1\\tkeySignature-BbM\\ttimeSignature-3/4\\tbarline\\tbarline\\tbarline\\tbarline',\n",
       " 'clef-C1\\tkeySignature-BbM\\ttimeSignature-C\\tbarline\\tbarline\\tbarline\\tbarline\\tbarline',\n",
       " 'clef-C4\\tkeySignature-FM\\ttimeSignature-C\\tbarline\\trest-half\\tbarline',\n",
       " 'clef-G2\\tkeySignature-AM\\ttimeSignature-3/8\\tbarline',\n",
       " 'clef-C1\\tkeySignature-FM\\ttimeSignature-C\\tbarline\\tbarline\\tbarline\\tbarline\\tbarline\\tbarline',\n",
       " 'clef-C1\\ttimeSignature-C\\ttimeSignature-C\\tbarline',\n",
       " 'clef-G2\\tkeySignature-FM\\ttimeSignature-C\\tbarline\\tbarline\\tbarline',\n",
       " 'clef-G2\\tkeySignature-EbM\\ttimeSignature-C\\tbarline\\tbarline\\tbarline\\tbarline\\tbarline\\tbarline',\n",
       " 'clef-C1\\tkeySignature-EbM\\ttimeSignature-C\\tbarline\\tbarline\\tbarline\\tbarline\\tbarline\\tbarline',\n",
       " 'clef-C1\\tkeySignature-GM\\ttimeSignature-C\\tbarline',\n",
       " 'clef-C3\\tkeySignature-GM\\ttimeSignature-C\\tbarline\\tbarline\\tbarline\\tbarline\\tbarline\\tbarline',\n",
       " 'clef-C1\\tkeySignature-DM\\ttimeSignature-C\\tbarline\\tbarline\\trest-quarter\\tbarline',\n",
       " 'clef-G2\\tkeySignature-FM\\ttimeSignature-C\\tbarline\\trest-quarter\\tbarline',\n",
       " 'clef-C1\\tkeySignature-FM\\ttimeSignature-3/4\\tbarline',\n",
       " 'clef-G2\\tkeySignature-FM\\ttimeSignature-3/4\\tbarline',\n",
       " 'clef-C1\\ttimeSignature-C\\ttimeSignature-C\\tbarline',\n",
       " 'clef-G2\\tkeySignature-BbM\\ttimeSignature-C\\tbarline',\n",
       " 'clef-G2\\tkeySignature-FM\\ttimeSignature-C\\tbarline\\tbarline\\tbarline\\tbarline',\n",
       " 'clef-F4\\tkeySignature-FM\\ttimeSignature-C\\tbarline',\n",
       " 'clef-G2\\tkeySignature-FM\\ttimeSignature-C\\tbarline\\tbarline\\tbarline\\tbarline\\tbarline',\n",
       " 'clef-C1\\tkeySignature-BbM\\ttimeSignature-3/4\\tbarline\\tbarline\\tbarline',\n",
       " 'clef-C1\\ttimeSignature-3/4\\tbarline\\tbarline',\n",
       " 'clef-G2\\tkeySignature-DM\\ttimeSignature-C\\tbarline\\tbarline\\tbarline\\tbarline',\n",
       " 'clef-G2\\tkeySignature-AM\\ttimeSignature-2/4\\tbarline',\n",
       " 'clef-F4\\tkeySignature-BbM\\ttimeSignature-3/4\\tbarline',\n",
       " 'clef-C4\\tkeySignature-BbM\\ttimeSignature-C\\tbarline\\tbarline',\n",
       " 'clef-C1\\ttimeSignature-3/4\\ttimeSignature-3/4\\tbarline\\tbarline\\tbarline\\tbarline',\n",
       " 'clef-G2\\tkeySignature-FM\\ttimeSignature-C/\\tbarline\\tbarline\\tbarline',\n",
       " 'clef-C1\\tkeySignature-FM\\ttimeSignature-3/4\\tbarline\\tbarline\\tbarline\\tbarline\\tbarline',\n",
       " 'clef-F4\\tkeySignature-FM\\ttimeSignature-3/4\\tbarline',\n",
       " 'clef-C1\\tkeySignature-GM\\ttimeSignature-3/4\\tbarline\\tbarline\\tbarline\\tbarline\\tbarline',\n",
       " 'clef-G2\\tkeySignature-EbM\\ttimeSignature-C\\tbarline',\n",
       " 'clef-G2\\tkeySignature-FM\\ttimeSignature-C\\tbarline',\n",
       " 'clef-C3\\tkeySignature-BbM\\ttimeSignature-C\\tbarline\\tbarline\\tbarline\\trest-quarter\\tbarline',\n",
       " 'clef-G2\\tkeySignature-GM\\ttimeSignature-C',\n",
       " 'clef-C4\\tkeySignature-BbM\\ttimeSignature-2/4\\tbarline',\n",
       " 'clef-G2\\ttimeSignature-C\\ttimeSignature-C\\tbarline\\tbarline\\tbarline\\tbarline\\tbarline\\tbarline',\n",
       " 'clef-G2\\ttimeSignature-C\\ttimeSignature-C\\tbarline\\tbarline\\tbarline',\n",
       " 'clef-G2\\tkeySignature-FM\\ttimeSignature-C\\tbarline\\tbarline\\tbarline\\tbarline\\tbarline\\tbarline',\n",
       " 'clef-G2\\ttimeSignature-C\\ttimeSignature-C\\tbarline\\tbarline\\tbarline\\tbarline\\tbarline',\n",
       " 'clef-G2\\tkeySignature-GM\\ttimeSignature-C\\tbarline\\tbarline\\tbarline\\tbarline\\tbarline',\n",
       " 'clef-G2\\tkeySignature-DM\\ttimeSignature-C\\tbarline\\tbarline\\tbarline',\n",
       " 'clef-G2\\tkeySignature-GM\\ttimeSignature-3/4\\tbarline\\tbarline\\tbarline',\n",
       " 'clef-G2\\tkeySignature-FM\\ttimeSignature-C\\tbarline\\tbarline\\tbarline',\n",
       " 'clef-G2\\tkeySignature-GM\\ttimeSignature-C\\tbarline\\tbarline\\tbarline',\n",
       " 'clef-G2\\ttimeSignature-C\\ttimeSignature-C\\tbarline\\tbarline\\tbarline\\tbarline\\tbarline',\n",
       " 'clef-G2\\tkeySignature-GM\\ttimeSignature-3/4\\tbarline\\tbarline\\tbarline\\tbarline',\n",
       " 'clef-G2\\tkeySignature-GM\\ttimeSignature-C\\tbarline\\tbarline\\tbarline',\n",
       " 'clef-G2\\tkeySignature-FM\\ttimeSignature-3/4\\tbarline\\tbarline\\tbarline\\tbarline',\n",
       " 'clef-G2\\tkeySignature-FM\\tbarline\\tbarline\\tbarline',\n",
       " 'clef-G2\\tkeySignature-DM\\ttimeSignature-3/4\\tbarline\\tbarline\\tbarline',\n",
       " 'clef-G2\\tkeySignature-AM\\ttimeSignature-2/4\\tbarline',\n",
       " 'clef-G2\\tkeySignature-FM\\ttimeSignature-3/4\\tbarline\\tbarline\\tbarline\\tbarline\\tbarline',\n",
       " 'clef-G2\\tkeySignature-FM\\tbarline\\tbarline\\tbarline',\n",
       " 'clef-G2\\tkeySignature-GM\\ttimeSignature-2/4\\tbarline',\n",
       " 'clef-G2\\ttimeSignature-C/\\tbarline\\tbarline',\n",
       " 'clef-F4\\tkeySignature-FM\\ttimeSignature-C\\tbarline\\tbarline',\n",
       " 'clef-G2\\tkeySignature-EbM\\ttimeSignature-C\\tbarline',\n",
       " 'clef-G2\\tkeySignature-FM\\ttimeSignature-C\\tbarline',\n",
       " 'clef-C1\\tkeySignature-DM\\ttimeSignature-3/4',\n",
       " 'clef-G2\\tkeySignature-BbM\\ttimeSignature-C\\tbarline',\n",
       " 'clef-C1\\tkeySignature-DM\\ttimeSignature-C\\tbarline\\tbarline\\trest-quarter\\tbarline',\n",
       " 'clef-C1\\ttimeSignature-C\\tbarline',\n",
       " 'clef-G2\\tkeySignature-EbM\\ttimeSignature-C\\tbarline',\n",
       " 'clef-C1\\tkeySignature-EbM\\ttimeSignature-3/4\\tbarline\\tbarline\\tbarline\\tbarline\\tbarline\\tbarline\\tbarline',\n",
       " 'clef-G2\\tkeySignature-FM\\ttimeSignature-3/4\\tbarline',\n",
       " 'clef-G2\\tkeySignature-GM\\ttimeSignature-C\\tbarline\\tbarline\\tbarline\\tbarline\\tbarline',\n",
       " 'clef-G2\\tkeySignature-FM\\ttimeSignature-3/4\\tbarline\\tbarline\\tbarline',\n",
       " 'clef-G2\\tkeySignature-BbM\\ttimeSignature-C\\tbarline\\tbarline\\tbarline',\n",
       " 'clef-G2\\tkeySignature-GM\\ttimeSignature-C\\tbarline',\n",
       " 'clef-G2\\tkeySignature-GM\\ttimeSignature-C\\tbarline',\n",
       " 'clef-G2\\tkeySignature-AM\\ttimeSignature-2/4\\tbarline',\n",
       " 'clef-G2\\tkeySignature-DM\\ttimeSignature-C\\tbarline',\n",
       " 'clef-G2\\tkeySignature-FM\\ttimeSignature-C/\\tbarline\\tbarline\\tbarline\\tbarline',\n",
       " 'clef-G2\\tkeySignature-GM\\ttimeSignature-2/4\\tbarline',\n",
       " 'clef-C4\\ttimeSignature-C\\ttimeSignature-C\\tbarline',\n",
       " 'clef-C1\\tkeySignature-GM\\ttimeSignature-C\\trest-quarter\\tbarline',\n",
       " 'clef-G2\\tkeySignature-BbM\\ttimeSignature-C\\tbarline\\tbarline\\tbarline\\tbarline',\n",
       " 'clef-G2\\tkeySignature-GM\\ttimeSignature-C\\tbarline\\tbarline',\n",
       " 'clef-G2\\ttimeSignature-C\\tbarline',\n",
       " 'clef-C1\\ttimeSignature-C\\tbarline\\tbarline\\tbarline',\n",
       " 'clef-C1\\tkeySignature-FM\\ttimeSignature-C\\tbarline\\tbarline',\n",
       " 'clef-G2\\tkeySignature-FM\\ttimeSignature-C\\tbarline\\tbarline\\tbarline\\tbarline',\n",
       " 'clef-G2\\ttimeSignature-C\\tbarline\\tbarline\\tbarline\\tbarline\\tbarline',\n",
       " 'clef-G2\\tkeySignature-FM\\tbarline\\tbarline\\tbarline\\tbarline\\tbarline',\n",
       " 'clef-G2\\tkeySignature-FM\\ttimeSignature-C\\tbarline\\tbarline\\tbarline',\n",
       " 'clef-G2\\ttimeSignature-C\\tbarline\\tbarline\\tbarline',\n",
       " 'clef-C1\\tkeySignature-FM\\ttimeSignature-C\\tbarline\\tbarline\\tbarline',\n",
       " 'clef-G2\\tkeySignature-BbM\\ttimeSignature-C\\tbarline\\tbarline',\n",
       " 'clef-G2\\tkeySignature-FM\\ttimeSignature-C\\tbarline\\tbarline',\n",
       " 'clef-G2\\tkeySignature-FM\\ttimeSignature-C\\tbarline\\tbarline',\n",
       " 'clef-G2\\ttimeSignature-2/4\\ttimeSignature-2/4\\tbarline',\n",
       " 'clef-G2\\tkeySignature-FM\\ttimeSignature-C\\tbarline\\tbarline\\tbarline\\tbarline',\n",
       " 'clef-C1\\tkeySignature-GM\\ttimeSignature-C',\n",
       " 'clef-G2\\tkeySignature-FM\\ttimeSignature-C\\tbarline\\tbarline',\n",
       " 'clef-G2\\tkeySignature-GM\\ttimeSignature-C\\tbarline\\tbarline',\n",
       " 'clef-G2\\ttimeSignature-3/4\\tbarline\\tbarline',\n",
       " 'clef-G2\\tkeySignature-FM\\ttimeSignature-2/4\\tbarline',\n",
       " 'clef-G2\\tkeySignature-FM\\ttimeSignature-3/4\\tbarline',\n",
       " 'clef-G2\\ttimeSignature-6/4\\tbarline\\tbarline\\tbarline',\n",
       " 'clef-G2\\tkeySignature-FM\\ttimeSignature-C\\tbarline',\n",
       " 'clef-G2\\tkeySignature-BbM\\ttimeSignature-C\\tbarline',\n",
       " 'clef-G2\\tkeySignature-GM\\ttimeSignature-C\\tbarline\\tbarline\\trest-quarter\\tbarline',\n",
       " 'clef-C1\\tkeySignature-EbM\\ttimeSignature-C\\tbarline\\tbarline\\tbarline\\tbarline\\tbarline\\tbarline',\n",
       " 'clef-G2\\tkeySignature-FM\\ttimeSignature-C\\tbarline\\tbarline\\tbarline',\n",
       " 'clef-G2\\tkeySignature-GM\\ttimeSignature-3/4\\tbarline',\n",
       " 'clef-G2\\tkeySignature-BbM\\ttimeSignature-C\\tbarline',\n",
       " 'clef-C3\\tkeySignature-BbM\\ttimeSignature-C\\tbarline\\trest-quarter\\tbarline',\n",
       " 'clef-G2\\tkeySignature-BbM\\ttimeSignature-3/8\\tbarline',\n",
       " 'clef-C1\\ttimeSignature-C\\ttimeSignature-C\\tbarline\\tbarline',\n",
       " 'clef-C3\\ttimeSignature-C\\ttimeSignature-C\\tbarline',\n",
       " 'clef-C1\\ttimeSignature-C\\ttimeSignature-C\\tbarline',\n",
       " 'clef-C1\\tkeySignature-BbM\\ttimeSignature-C\\tbarline\\tbarline',\n",
       " 'clef-G2\\ttimeSignature-C\\tbarline\\tbarline\\tbarline',\n",
       " 'clef-G2\\tkeySignature-FM\\ttimeSignature-3/4\\tbarline',\n",
       " 'clef-C4\\tkeySignature-FM\\ttimeSignature-3/4\\tbarline\\tbarline\\tbarline',\n",
       " 'clef-F4\\tkeySignature-BbM\\ttimeSignature-C\\tbarline',\n",
       " 'clef-G2\\tkeySignature-GM\\ttimeSignature-3/8\\tbarline\\tbarline',\n",
       " 'clef-G2\\tkeySignature-AM\\ttimeSignature-2/4\\tbarline',\n",
       " 'clef-G2\\tkeySignature-GM\\ttimeSignature-C\\tbarline\\tbarline\\tbarline',\n",
       " 'clef-G2\\tkeySignature-BbM\\ttimeSignature-C\\tbarline\\tbarline\\tbarline\\tbarline\\tbarline\\tbarline',\n",
       " 'clef-G2\\tkeySignature-DM\\ttimeSignature-3/4\\tbarline\\tbarline\\tbarline\\tbarline',\n",
       " 'clef-G2\\tkeySignature-GM\\ttimeSignature-3/4\\tbarline\\tbarline',\n",
       " 'clef-G2\\tkeySignature-GM\\ttimeSignature-C\\tbarline\\tbarline\\tbarline\\tbarline',\n",
       " 'clef-G2\\tkeySignature-BbM\\ttimeSignature-C\\tbarline\\tbarline\\tbarline\\tbarline',\n",
       " 'clef-G2\\tkeySignature-FM\\ttimeSignature-C\\tbarline\\tbarline\\tbarline\\tbarline',\n",
       " 'clef-G2\\tkeySignature-BbM\\ttimeSignature-C\\tbarline',\n",
       " 'clef-G2\\tkeySignature-DM\\ttimeSignature-C\\tbarline\\tbarline\\tbarline',\n",
       " 'clef-G2\\tkeySignature-GM\\ttimeSignature-C\\tbarline\\tbarline\\tbarline',\n",
       " 'clef-G2\\tkeySignature-BbM\\ttimeSignature-C\\tbarline',\n",
       " 'clef-G2\\tkeySignature-GM\\ttimeSignature-C\\tbarline',\n",
       " 'clef-G2\\tkeySignature-FM\\ttimeSignature-C\\tbarline\\tbarline\\tbarline',\n",
       " 'clef-G2\\tkeySignature-BbM\\ttimeSignature-C\\tbarline',\n",
       " 'clef-G2\\tkeySignature-FM\\ttimeSignature-C/\\tbarline\\tbarline\\tbarline\\tbarline',\n",
       " 'clef-G2\\tkeySignature-GM\\ttimeSignature-2/4\\tbarline',\n",
       " 'clef-G2\\tkeySignature-DM\\ttimeSignature-2/4\\tbarline',\n",
       " 'clef-G2\\tkeySignature-GM\\ttimeSignature-C\\tbarline\\tbarline\\trest-quarter\\tbarline',\n",
       " 'clef-G2\\tkeySignature-FM\\ttimeSignature-C\\trest-quarter\\tbarline',\n",
       " 'clef-G2\\tkeySignature-FM\\ttimeSignature-2/4\\tbarline',\n",
       " 'clef-G2\\tkeySignature-FM\\ttimeSignature-2/4\\tbarline',\n",
       " 'clef-G2\\tkeySignature-BbM\\ttimeSignature-C\\tbarline\\tbarline\\tbarline',\n",
       " 'clef-G2\\tkeySignature-BbM\\ttimeSignature-C\\tbarline',\n",
       " 'clef-G2\\tkeySignature-FM\\ttimeSignature-C\\tbarline\\tbarline\\tbarline',\n",
       " 'clef-G2\\tkeySignature-GM\\ttimeSignature-C\\tbarline',\n",
       " 'clef-G2\\tkeySignature-GM\\ttimeSignature-C\\tbarline\\tbarline\\tbarline\\tbarline',\n",
       " 'clef-G2\\tkeySignature-FM\\ttimeSignature-2/4\\tbarline',\n",
       " 'clef-G2\\tkeySignature-FM\\ttimeSignature-C\\tbarline\\tbarline',\n",
       " 'clef-G2\\tkeySignature-GM\\ttimeSignature-C\\tbarline\\tbarline\\tbarline',\n",
       " 'clef-G2\\tkeySignature-EbM\\ttimeSignature-C\\tbarline\\tbarline',\n",
       " 'clef-G2\\tkeySignature-DM\\ttimeSignature-C\\tbarline\\tbarline\\trest-quarter\\tbarline',\n",
       " 'clef-G2\\tkeySignature-EbM\\ttimeSignature-C\\tbarline\\tbarline\\tbarline',\n",
       " 'clef-G2\\tkeySignature-BbM\\ttimeSignature-2/4\\tbarline\\tbarline\\tbarline',\n",
       " 'clef-G2\\tkeySignature-GM\\ttimeSignature-C\\tbarline',\n",
       " 'clef-G2\\tkeySignature-FM\\ttimeSignature-C\\tbarline\\trest-half\\tbarline\\tbarline\\tbarline\\tbarline',\n",
       " 'clef-C1\\tkeySignature-BbM\\ttimeSignature-C\\tbarline\\trest-half',\n",
       " 'clef-C1\\tkeySignature-BbM\\ttimeSignature-C\\tbarline',\n",
       " 'clef-G2\\tkeySignature-BbM\\ttimeSignature-C\\tbarline\\tnote-G5_quarter',\n",
       " 'clef-G2\\tkeySignature-FM\\ttimeSignature-C\\tbarline',\n",
       " 'clef-G2\\tkeySignature-FM\\ttimeSignature-C\\tbarline',\n",
       " 'clef-C1\\tkeySignature-BbM\\ttimeSignature-2/4\\tbarline',\n",
       " 'clef-C1\\tkeySignature-FM\\ttimeSignature-3/4\\tbarline\\tbarline',\n",
       " 'clef-C1\\tkeySignature-FM\\tbarline\\tbarline\\tbarline',\n",
       " 'clef-C1\\tkeySignature-FM\\ttimeSignature-C\\tbarline\\tbarline\\tbarline\\tbarline\\tbarline',\n",
       " 'clef-C1\\ttimeSignature-C\\ttimeSignature-C\\tbarline',\n",
       " 'clef-G2\\tkeySignature-BbM\\ttimeSignature-C\\tbarline',\n",
       " 'clef-C3\\tkeySignature-GM\\ttimeSignature-C\\tbarline',\n",
       " 'clef-G2\\tkeySignature-FM\\ttimeSignature-C\\tbarline\\tbarline\\tbarline\\tbarline\\tbarline\\tbarline\\tbarline',\n",
       " 'clef-G2\\tkeySignature-FM\\tbarline\\tbarline\\tbarline',\n",
       " 'clef-G2\\tkeySignature-FM\\ttimeSignature-3/4\\tbarline',\n",
       " 'clef-G2\\tkeySignature-GM\\ttimeSignature-3/4\\tbarline\\tbarline\\tbarline',\n",
       " 'clef-G2\\tkeySignature-DM\\ttimeSignature-C\\tbarline\\tbarline',\n",
       " 'clef-G2\\tkeySignature-BbM\\ttimeSignature-3/4\\tbarline',\n",
       " 'clef-G2\\tkeySignature-FM\\tbarline',\n",
       " 'clef-G2\\tkeySignature-BbM\\ttimeSignature-C\\tbarline',\n",
       " 'clef-G2\\tkeySignature-FM\\ttimeSignature-C\\tbarline',\n",
       " 'clef-G2\\tkeySignature-BbM\\ttimeSignature-C\\tbarline',\n",
       " 'clef-G2\\tkeySignature-FM\\ttimeSignature-3/4\\tbarline',\n",
       " 'clef-C1\\ttimeSignature-C\\ttimeSignature-C\\tbarline',\n",
       " 'clef-C1\\tkeySignature-FM\\ttimeSignature-3/8\\tbarline\\tbarline\\trest-quarter\\tbarline',\n",
       " 'clef-C4\\tkeySignature-BbM\\ttimeSignature-C\\tbarline\\tbarline\\tbarline',\n",
       " 'clef-G2\\tkeySignature-FM\\ttimeSignature-3/4\\trest-quarter\\tbarline',\n",
       " 'clef-G2\\tkeySignature-BbM\\ttimeSignature-C\\tbarline\\tbarline\\tbarline',\n",
       " 'clef-F4\\tkeySignature-FM\\ttimeSignature-C\\tbarline',\n",
       " 'clef-G2\\tkeySignature-FM\\ttimeSignature-3/4\\tbarline',\n",
       " 'clef-G2\\tkeySignature-FM\\ttimeSignature-C\\tbarline\\tbarline\\tbarline\\tbarline',\n",
       " 'clef-F4\\tkeySignature-FM\\ttimeSignature-3/4\\tbarline\\tbarline',\n",
       " 'clef-G2\\tkeySignature-BbM\\ttimeSignature-C\\tbarline\\tbarline\\tbarline\\tbarline',\n",
       " 'clef-F4\\tkeySignature-BbM\\tbarline',\n",
       " 'clef-F4\\tkeySignature-FM\\ttimeSignature-C\\tbarline',\n",
       " 'clef-F4\\tkeySignature-FM\\ttimeSignature-3/4\\tbarline',\n",
       " 'clef-C1\\tkeySignature-FM\\ttimeSignature-C\\tbarline\\tbarline\\trest-quarter\\tbarline',\n",
       " 'clef-C1\\tkeySignature-FM\\ttimeSignature-3/4\\tbarline\\tbarline\\tbarline\\tbarline',\n",
       " 'clef-C3\\tkeySignature-FM\\ttimeSignature-C\\tbarline\\tbarline\\tbarline\\tbarline\\tbarline',\n",
       " 'clef-G2\\tkeySignature-FM\\ttimeSignature-C\\tbarline\\tbarline\\tbarline',\n",
       " 'clef-C1\\tkeySignature-FM\\ttimeSignature-C\\tbarline\\tbarline\\tbarline\\tbarline\\tbarline\\tbarline\\tbarline\\tbarline\\tbarline',\n",
       " 'clef-G2\\tkeySignature-BbM\\ttimeSignature-C\\tbarline',\n",
       " 'clef-G2\\tkeySignature-GM\\ttimeSignature-3/4\\tbarline\\tbarline',\n",
       " 'clef-G2\\tkeySignature-GM\\ttimeSignature-C\\tbarline\\tbarline\\tbarline',\n",
       " 'clef-G2\\tkeySignature-FM\\ttimeSignature-C\\tbarline\\tbarline\\tbarline',\n",
       " 'clef-G2\\tkeySignature-BbM\\ttimeSignature-C\\tbarline',\n",
       " 'clef-G2\\tkeySignature-FM\\ttimeSignature-C\\tbarline\\tbarline',\n",
       " 'clef-G2\\ttimeSignature-C\\tbarline\\tbarline\\tbarline',\n",
       " 'clef-G2\\ttimeSignature-C/\\tbarline\\tbarline\\tbarline',\n",
       " 'clef-G2\\tkeySignature-BbM\\ttimeSignature-C\\tbarline\\tbarline',\n",
       " 'clef-C1\\tkeySignature-AM\\ttimeSignature-C\\tbarline\\tbarline\\tbarline\\tbarline',\n",
       " 'clef-G2\\ttimeSignature-3/4\\tbarline',\n",
       " 'clef-F4\\tkeySignature-BbM\\ttimeSignature-C\\tbarline',\n",
       " 'clef-G2\\ttimeSignature-6/4\\tbarline\\tnote-G5_quarter',\n",
       " 'clef-G2\\tkeySignature-FM\\ttimeSignature-2/4\\tnote-G5_quarter',\n",
       " 'clef-G2\\tkeySignature-FM\\ttimeSignature-C/\\tbarline',\n",
       " 'clef-C1\\tkeySignature-FM\\ttimeSignature-3/4\\tbarline\\tbarline\\tbarline\\tbarline\\tbarline',\n",
       " 'clef-C1\\tkeySignature-FM\\ttimeSignature-C\\tbarline\\tbarline\\tbarline\\tbarline\\tbarline',\n",
       " 'clef-G2\\tkeySignature-FM\\ttimeSignature-3/4\\tbarline\\tbarline\\tbarline',\n",
       " 'clef-G2\\tkeySignature-AM\\ttimeSignature-3/4\\tbarline',\n",
       " 'clef-G2\\ttimeSignature-C/\\tbarline\\tbarline',\n",
       " 'clef-F4\\ttimeSignature-3/4\\ttimeSignature-3/4\\tbarline\\tnote-G3_quarter',\n",
       " 'clef-F4\\tkeySignature-FM\\ttimeSignature-C\\tbarline\\tbarline\\tbarline',\n",
       " 'clef-C1\\tkeySignature-FM\\ttimeSignature-3/4\\tbarline\\tbarline\\tbarline',\n",
       " 'clef-C1\\ttimeSignature-C\\tbarline\\tbarline\\tbarline',\n",
       " 'clef-G2\\ttimeSignature-C/\\tbarline\\tbarline',\n",
       " 'clef-C3\\tkeySignature-BbM\\ttimeSignature-C\\tbarline\\tbarline\\tbarline',\n",
       " 'clef-G2\\tkeySignature-EbM\\ttimeSignature-3/4\\tbarline\\tbarline\\tbarline\\tbarline',\n",
       " 'clef-G2\\tkeySignature-GM\\ttimeSignature-C\\tbarline\\tbarline\\tbarline',\n",
       " 'clef-G2\\tkeySignature-DM\\ttimeSignature-C\\tbarline\\tbarline',\n",
       " 'clef-C1\\tkeySignature-GM\\ttimeSignature-3/8\\tbarline',\n",
       " 'clef-G2\\ttimeSignature-2/4\\tbarline\\tbarline\\tbarline\\tbarline',\n",
       " 'clef-C1\\tkeySignature-AM\\ttimeSignature-3/4\\tbarline',\n",
       " 'clef-C1\\tkeySignature-GM\\ttimeSignature-2/4\\tbarline',\n",
       " 'clef-G2\\tkeySignature-FM\\ttimeSignature-C\\tbarline\\tbarline\\tbarline',\n",
       " 'clef-G2\\ttimeSignature-C\\tbarline\\tbarline\\tbarline',\n",
       " 'clef-C2\\tkeySignature-FM\\ttimeSignature-C',\n",
       " 'clef-C3\\tkeySignature-FM\\ttimeSignature-C\\tbarline',\n",
       " 'clef-C3\\tkeySignature-FM\\ttimeSignature-C\\tbarline\\tbarline\\tbarline',\n",
       " 'clef-C3\\tkeySignature-FM\\ttimeSignature-C\\tbarline\\tbarline\\tbarline\\tbarline\\tbarline',\n",
       " 'clef-C3\\tkeySignature-FM\\ttimeSignature-C\\tbarline',\n",
       " 'clef-C3\\ttimeSignature-C/\\tbarline\\tbarline',\n",
       " 'clef-C3\\tkeySignature-FM\\ttimeSignature-C\\tbarline\\tbarline\\tbarline',\n",
       " 'clef-G2\\tkeySignature-GM\\ttimeSignature-3/4\\tbarline',\n",
       " 'clef-G2\\tkeySignature-AM\\ttimeSignature-6/8\\tbarline',\n",
       " 'clef-C1\\tkeySignature-AM\\ttimeSignature-3/8\\tbarline\\tbarline',\n",
       " 'clef-C1\\tkeySignature-GM\\ttimeSignature-C\\tbarline\\tbarline\\tbarline\\tbarline',\n",
       " 'clef-G2\\tkeySignature-BbM\\ttimeSignature-C\\tbarline',\n",
       " 'clef-G2\\tkeySignature-AM\\ttimeSignature-2/4\\tbarline',\n",
       " 'clef-C1\\tkeySignature-DM\\ttimeSignature-C\\tbarline\\tbarline\\tbarline\\tbarline\\tbarline\\tbarline',\n",
       " 'clef-G2\\tkeySignature-EbM\\ttimeSignature-C\\tbarline',\n",
       " 'clef-F4\\tkeySignature-BbM\\ttimeSignature-C\\tbarline',\n",
       " 'clef-F4\\tkeySignature-DM\\ttimeSignature-3/4\\tbarline\\tbarline',\n",
       " 'clef-F4\\tkeySignature-FM\\ttimeSignature-C\\tbarline\\tbarline',\n",
       " 'clef-G2\\tkeySignature-GM\\ttimeSignature-C\\tbarline\\tbarline\\tbarline\\tbarline\\tbarline\\tbarline\\tbarline',\n",
       " 'clef-G2\\tkeySignature-GM\\ttimeSignature-C\\tbarline\\tbarline\\tbarline',\n",
       " 'clef-C1\\tkeySignature-DM\\ttimeSignature-C\\tbarline\\tbarline\\tbarline\\tbarline',\n",
       " 'clef-G2\\tkeySignature-BbM\\ttimeSignature-C\\tbarline',\n",
       " 'clef-G2\\tkeySignature-BbM\\ttimeSignature-C\\tbarline',\n",
       " 'clef-C1\\tkeySignature-DM\\ttimeSignature-3/8\\tbarline',\n",
       " 'clef-C1\\tkeySignature-BbM\\ttimeSignature-C\\tbarline',\n",
       " 'clef-C1\\ttimeSignature-C\\ttimeSignature-C\\tbarline',\n",
       " 'clef-C1\\tkeySignature-FM\\ttimeSignature-C\\tbarline',\n",
       " 'clef-C1\\tkeySignature-FM\\tbarline\\tbarline\\tbarline',\n",
       " 'clef-C1\\tkeySignature-FM\\ttimeSignature-3/4\\tbarline',\n",
       " 'clef-C4\\tkeySignature-FM\\ttimeSignature-C\\tbarline\\tbarline\\tbarline\\tbarline',\n",
       " 'clef-C1\\tkeySignature-GM\\ttimeSignature-2/4\\tbarline\\tbarline',\n",
       " 'clef-C1\\tkeySignature-BbM\\ttimeSignature-3/4\\tbarline',\n",
       " 'clef-G2\\tkeySignature-GM\\ttimeSignature-C\\tbarline\\tbarline\\tbarline',\n",
       " 'clef-G2\\tkeySignature-GM\\ttimeSignature-C\\tbarline',\n",
       " 'clef-G2\\tkeySignature-GM\\ttimeSignature-C\\tbarline\\tbarline\\tbarline',\n",
       " 'clef-C1\\tkeySignature-DM\\ttimeSignature-C\\tbarline\\tbarline\\tbarline\\tbarline\\tbarline\\tbarline\\tbarline',\n",
       " 'clef-G2\\tkeySignature-FM\\ttimeSignature-C\\tbarline',\n",
       " 'clef-C1\\tkeySignature-BbM\\ttimeSignature-C\\tbarline',\n",
       " 'clef-G2\\tkeySignature-FM\\ttimeSignature-3/4\\tbarline\\tbarline\\tbarline\\tbarline',\n",
       " 'clef-G2\\tkeySignature-FM\\ttimeSignature-C\\tbarline\\tbarline\\tbarline',\n",
       " 'clef-C1\\tkeySignature-FM\\ttimeSignature-C\\tbarline\\tbarline\\tbarline\\tbarline\\tbarline',\n",
       " 'clef-G2\\tkeySignature-AM\\ttimeSignature-2/4\\tbarline\\tbarline',\n",
       " 'clef-C1\\tkeySignature-FM\\ttimeSignature-C\\tbarline\\trest-quarter\\trest-quarter\\tbarline',\n",
       " 'clef-C1\\tkeySignature-GM\\ttimeSignature-3/4\\tbarline\\tbarline',\n",
       " 'clef-C1\\tkeySignature-GM\\ttimeSignature-C\\tbarline',\n",
       " 'clef-G2\\tkeySignature-GM\\ttimeSignature-C\\tbarline',\n",
       " 'clef-G2\\tkeySignature-EbM\\ttimeSignature-C\\tbarline\\tbarline',\n",
       " 'clef-C1\\tkeySignature-FM\\ttimeSignature-C\\tbarline\\tbarline\\tbarline',\n",
       " 'clef-F4\\tkeySignature-FM\\ttimeSignature-3/4\\tbarline\\tbarline\\tbarline',\n",
       " 'clef-G2\\ttimeSignature-C/\\tbarline\\tbarline\\tbarline\\tbarline\\tbarline',\n",
       " 'clef-G2\\tkeySignature-BbM\\ttimeSignature-2/4\\tbarline',\n",
       " 'clef-C3\\tkeySignature-FM\\ttimeSignature-C\\tbarline\\tbarline\\tbarline',\n",
       " 'clef-C1\\ttimeSignature-C\\tbarline',\n",
       " 'clef-C1\\ttimeSignature-C\\ttimeSignature-C\\tbarline',\n",
       " 'clef-G2\\tkeySignature-GM\\ttimeSignature-C\\tbarline\\tbarline\\tbarline\\tbarline',\n",
       " 'clef-C1\\tkeySignature-FM\\ttimeSignature-3/4\\tbarline\\tbarline',\n",
       " 'clef-G2\\tkeySignature-GM\\ttimeSignature-2/4\\tbarline',\n",
       " 'clef-G2\\tkeySignature-GM\\ttimeSignature-3/8\\tbarline\\tbarline\\tbarline',\n",
       " 'clef-G2\\tkeySignature-BbM\\ttimeSignature-C\\tbarline',\n",
       " 'clef-C1\\tkeySignature-GM\\ttimeSignature-C\\tbarline',\n",
       " 'clef-G2\\tkeySignature-DM\\ttimeSignature-C\\tbarline\\tbarline',\n",
       " 'clef-C3\\tkeySignature-BbM\\ttimeSignature-C\\tbarline\\tbarline\\tbarline',\n",
       " 'clef-G2\\tkeySignature-GM\\ttimeSignature-C\\tbarline\\tbarline\\tbarline',\n",
       " 'clef-C1\\ttimeSignature-C\\ttimeSignature-C',\n",
       " 'clef-G2\\ttimeSignature-C\\ttimeSignature-C\\tbarline',\n",
       " 'clef-G2\\tkeySignature-BbM\\ttimeSignature-3/4\\tbarline\\tbarline\\tbarline',\n",
       " 'clef-G2\\tkeySignature-BbM\\ttimeSignature-2/4\\trest-quarter\\tbarline',\n",
       " 'clef-G2\\tkeySignature-FM\\ttimeSignature-C\\tbarline\\tbarline\\tbarline',\n",
       " 'clef-G2\\tkeySignature-FM\\ttimeSignature-3/4\\tbarline\\tnote-G5_quarter',\n",
       " 'clef-G2\\tkeySignature-FM\\ttimeSignature-C\\tbarline\\tnote-G5_quarter',\n",
       " 'clef-G2\\tkeySignature-FM\\ttimeSignature-C\\tbarline\\tbarline\\tbarline\\tbarline',\n",
       " 'clef-G2\\tkeySignature-GM\\ttimeSignature-3/4\\tbarline',\n",
       " 'clef-G2\\tkeySignature-BbM\\ttimeSignature-C\\tbarline\\tbarline\\tbarline',\n",
       " 'clef-C1\\tkeySignature-DM\\ttimeSignature-C\\tbarline',\n",
       " 'clef-G2\\tkeySignature-BbM\\ttimeSignature-C\\tbarline',\n",
       " 'clef-C4\\tkeySignature-BbM\\ttimeSignature-3/8\\tbarline\\tbarline\\tbarline',\n",
       " 'clef-G2\\tkeySignature-FM\\ttimeSignature-2/4\\tbarline',\n",
       " 'clef-C1\\ttimeSignature-3/4\\tbarline',\n",
       " 'clef-G2\\tkeySignature-GM\\ttimeSignature-C\\tbarline\\tbarline',\n",
       " 'clef-C1\\tkeySignature-EbM\\ttimeSignature-C\\tbarline',\n",
       " 'clef-C1\\tkeySignature-GM\\ttimeSignature-C\\tbarline',\n",
       " 'clef-C1\\tkeySignature-BbM\\ttimeSignature-3/4',\n",
       " 'clef-C1\\ttimeSignature-2/4\\tbarline',\n",
       " 'clef-C1\\tkeySignature-DM\\ttimeSignature-C\\tbarline\\trest-quarter\\trest-quarter\\tbarline',\n",
       " 'clef-G2\\tkeySignature-FM\\ttimeSignature-3/4\\tbarline',\n",
       " 'clef-G2\\tkeySignature-BbM\\ttimeSignature-C\\tbarline',\n",
       " 'clef-C3\\tkeySignature-FM\\ttimeSignature-C\\tbarline\\tbarline\\tbarline',\n",
       " 'clef-G2\\tkeySignature-FM\\ttimeSignature-C\\trest-quarter\\tbarline',\n",
       " 'clef-C1\\tkeySignature-GM\\ttimeSignature-3/4\\tbarline',\n",
       " 'clef-G2\\tkeySignature-GM\\ttimeSignature-C\\tbarline',\n",
       " 'clef-G2\\ttimeSignature-C\\tbarline',\n",
       " 'clef-G2\\ttimeSignature-C\\tbarline\\tbarline',\n",
       " 'clef-G2\\ttimeSignature-C\\tbarline\\tbarline\\tbarline\\tbarline',\n",
       " 'clef-G2\\tkeySignature-FM\\ttimeSignature-C\\tbarline\\tbarline',\n",
       " 'clef-G2\\tkeySignature-FM\\ttimeSignature-C\\tbarline\\tbarline\\tbarline',\n",
       " 'clef-C1\\tkeySignature-FM\\ttimeSignature-C\\tbarline',\n",
       " 'clef-G2\\tkeySignature-FM\\tbarline\\tbarline\\tbarline\\tbarline',\n",
       " 'clef-C4\\tkeySignature-FM\\ttimeSignature-C/\\tbarline\\tbarline\\tbarline',\n",
       " 'clef-C1\\ttimeSignature-C\\ttimeSignature-C\\tbarline',\n",
       " 'clef-G2\\tkeySignature-FM\\ttimeSignature-C\\tbarline\\tbarline\\tbarline\\tbarline\\tbarline',\n",
       " 'clef-G2\\tkeySignature-FM\\ttimeSignature-3/4\\tbarline\\tbarline',\n",
       " 'clef-G2\\ttimeSignature-3/4\\tbarline\\tbarline',\n",
       " 'clef-G2\\tkeySignature-FM\\ttimeSignature-3/4\\tbarline\\tbarline',\n",
       " 'clef-G2\\tkeySignature-FM\\ttimeSignature-C\\tbarline\\tnote-G5_quarter',\n",
       " 'clef-G2\\tkeySignature-FM\\ttimeSignature-C',\n",
       " 'clef-G2\\tkeySignature-FM\\ttimeSignature-3/4\\tbarline\\tbarline',\n",
       " 'clef-G2\\ttimeSignature-C\\ttimeSignature-C\\tbarline',\n",
       " 'clef-G2\\tkeySignature-GM\\ttimeSignature-C\\tbarline\\tbarline\\tbarline',\n",
       " 'clef-G2\\tkeySignature-DM\\ttimeSignature-3/4\\tbarline',\n",
       " 'clef-G2\\tkeySignature-BbM\\ttimeSignature-2/4\\tbarline',\n",
       " 'clef-G2\\tkeySignature-BbM\\ttimeSignature-C\\tbarline',\n",
       " 'clef-G2\\tkeySignature-DM\\ttimeSignature-3/4\\tbarline',\n",
       " 'clef-G2\\tkeySignature-FM\\ttimeSignature-C\\tbarline\\tbarline\\tbarline\\tbarline\\tbarline',\n",
       " 'clef-C1\\tkeySignature-AM\\ttimeSignature-C\\tbarline',\n",
       " 'clef-G2\\tkeySignature-BbM\\ttimeSignature-2/4\\tbarline',\n",
       " 'clef-C1\\tkeySignature-FM\\ttimeSignature-3/8\\tbarline\\trest-quarter\\tbarline',\n",
       " 'clef-C1\\ttimeSignature-C\\trest-quarter\\tbarline',\n",
       " 'clef-C1\\tkeySignature-AM\\ttimeSignature-2/4\\tbarline',\n",
       " 'clef-C1\\tkeySignature-AM\\ttimeSignature-3/4\\tbarline',\n",
       " 'clef-C4\\tkeySignature-BbM\\tbarline\\tbarline',\n",
       " 'clef-C1\\tkeySignature-DM\\ttimeSignature-3/4\\tbarline\\tbarline\\tbarline',\n",
       " 'clef-F4\\ttimeSignature-C\\ttimeSignature-C\\tbarline\\tbarline\\tnote-G3_quarter',\n",
       " 'clef-F4\\tkeySignature-FM\\ttimeSignature-C\\tbarline',\n",
       " 'clef-C1\\tkeySignature-DM\\ttimeSignature-6/8\\tbarline',\n",
       " 'clef-C1\\tkeySignature-GM\\ttimeSignature-C\\tbarline\\tbarline\\tbarline\\tbarline\\tbarline\\tbarline\\tbarline',\n",
       " 'clef-C1\\tkeySignature-DM\\ttimeSignature-C\\tbarline\\tbarline\\tbarline\\tbarline',\n",
       " 'clef-F4\\tkeySignature-FM\\ttimeSignature-C\\tbarline\\tbarline',\n",
       " 'clef-C1\\tkeySignature-BbM\\ttimeSignature-C\\tbarline',\n",
       " 'clef-F4\\tkeySignature-GM\\ttimeSignature-C\\tbarline\\tbarline\\tbarline',\n",
       " 'clef-G2\\tkeySignature-FM\\tbarline\\tbarline',\n",
       " 'clef-G2\\tkeySignature-FM\\ttimeSignature-C/\\tbarline',\n",
       " 'clef-G2\\tkeySignature-FM\\ttimeSignature-C\\tbarline\\tbarline',\n",
       " 'clef-G2\\tkeySignature-FM\\ttimeSignature-C\\tbarline\\tbarline\\tbarline',\n",
       " 'clef-G2\\tkeySignature-EbM\\ttimeSignature-C/\\tbarline\\tbarline',\n",
       " 'clef-G2\\tkeySignature-FM\\ttimeSignature-3/4\\tbarline\\tbarline\\tbarline\\tbarline',\n",
       " 'clef-G2\\tkeySignature-FM\\ttimeSignature-C/\\tbarline',\n",
       " 'clef-G2\\tkeySignature-FM\\ttimeSignature-C/\\tbarline',\n",
       " 'clef-G2\\tkeySignature-FM\\tbarline',\n",
       " 'clef-G2\\tkeySignature-BbM\\ttimeSignature-3/4\\tbarline',\n",
       " 'clef-G2\\tkeySignature-FM\\ttimeSignature-C/\\tbarline\\tbarline',\n",
       " 'clef-G2\\tkeySignature-GM\\ttimeSignature-3/4\\tbarline\\tbarline\\tbarline',\n",
       " 'clef-G2\\tkeySignature-FM\\ttimeSignature-3/4\\tbarline\\tbarline\\tbarline\\tbarline',\n",
       " 'clef-G2\\tkeySignature-FM\\ttimeSignature-C\\tbarline\\tbarline\\tbarline\\tbarline\\tbarline',\n",
       " 'clef-G2\\tkeySignature-FM\\ttimeSignature-3/4\\tbarline\\tbarline\\tbarline',\n",
       " 'clef-G2\\tkeySignature-BbM\\ttimeSignature-3/4\\tbarline\\tbarline\\tbarline',\n",
       " 'clef-G2\\ttimeSignature-6/4\\ttimeSignature-3/4\\tbarline\\tbarline',\n",
       " 'clef-G2\\tkeySignature-FM\\ttimeSignature-C/\\tbarline',\n",
       " 'clef-G2\\tkeySignature-FM\\ttimeSignature-3/4\\tbarline\\tbarline',\n",
       " 'clef-G2\\tkeySignature-GM\\ttimeSignature-C\\tbarline\\tbarline',\n",
       " 'clef-G2\\tkeySignature-FM\\ttimeSignature-C\\tbarline\\tbarline\\tbarline\\tbarline',\n",
       " 'clef-G2\\tkeySignature-FM\\ttimeSignature-C\\tbarline\\tbarline\\tbarline\\tbarline\\tbarline',\n",
       " 'clef-G2\\tkeySignature-BbM\\ttimeSignature-C\\tbarline',\n",
       " 'clef-G2\\tkeySignature-FM\\ttimeSignature-C\\tbarline\\tbarline\\tbarline\\tbarline\\tbarline',\n",
       " 'clef-G2\\tkeySignature-FM\\ttimeSignature-C\\tbarline\\tbarline\\tbarline',\n",
       " 'clef-G2\\tkeySignature-FM\\ttimeSignature-C/\\tbarline\\tbarline',\n",
       " 'clef-G2\\tkeySignature-FM\\tbarline\\tbarline\\tbarline',\n",
       " 'clef-G2\\tkeySignature-BbM\\ttimeSignature-3/4\\tbarline',\n",
       " 'clef-C1\\ttimeSignature-C\\ttimeSignature-C\\tbarline\\tbarline',\n",
       " 'clef-C3\\tkeySignature-FM\\ttimeSignature-C\\tbarline\\tbarline',\n",
       " 'clef-G2\\tkeySignature-FM\\tbarline\\tbarline\\tbarline\\tbarline',\n",
       " 'clef-G2\\tkeySignature-FM\\ttimeSignature-3/4\\tbarline',\n",
       " 'clef-G2\\tkeySignature-GM\\ttimeSignature-C\\tbarline\\tbarline\\tbarline\\tbarline\\tbarline',\n",
       " 'clef-G2\\tkeySignature-FM\\ttimeSignature-C\\tbarline\\tbarline\\tbarline\\tbarline',\n",
       " 'clef-G2\\tkeySignature-FM\\ttimeSignature-C\\tnote-G5_quarter',\n",
       " 'clef-G2\\tkeySignature-GM\\ttimeSignature-C\\tbarline\\tbarline',\n",
       " 'clef-G2\\tkeySignature-BbM\\ttimeSignature-C\\tbarline\\tbarline',\n",
       " 'clef-G2\\tkeySignature-BbM\\ttimeSignature-C\\tbarline',\n",
       " 'clef-G2\\tkeySignature-GM\\ttimeSignature-C\\tbarline\\trest-quarter\\tbarline',\n",
       " 'clef-G2\\tkeySignature-AM\\ttimeSignature-2/4\\tbarline',\n",
       " 'clef-C1\\tkeySignature-BbM\\ttimeSignature-C\\tbarline',\n",
       " 'clef-G2\\tkeySignature-FM\\ttimeSignature-C\\tbarline\\tbarline',\n",
       " 'clef-G2\\tkeySignature-EbM\\ttimeSignature-C\\tbarline\\tbarline\\tbarline',\n",
       " 'clef-G2\\tkeySignature-FM\\ttimeSignature-C/\\tbarline\\tbarline',\n",
       " 'clef-G2\\tkeySignature-FM\\ttimeSignature-3/4\\tbarline\\tbarline\\tbarline',\n",
       " 'clef-G2\\ttimeSignature-C/\\tbarline\\tnote-E5_quarter',\n",
       " 'clef-C1\\ttimeSignature-C\\tbarline\\tbarline\\tbarline',\n",
       " 'clef-G2\\tkeySignature-FM\\ttimeSignature-3/4\\tbarline\\tbarline\\tbarline',\n",
       " 'clef-G2\\tkeySignature-FM\\ttimeSignature-C/\\tbarline',\n",
       " 'clef-G2\\tkeySignature-FM\\ttimeSignature-C/\\tbarline\\tbarline',\n",
       " 'clef-G2\\tkeySignature-FM\\ttimeSignature-C\\tbarline\\tbarline\\tbarline\\tbarline',\n",
       " 'clef-C4\\tkeySignature-FM\\ttimeSignature-C/\\tbarline',\n",
       " 'clef-G2\\tkeySignature-FM\\tbarline\\tbarline\\tbarline',\n",
       " 'clef-C1\\tkeySignature-EbM\\ttimeSignature-C\\tbarline',\n",
       " 'clef-G2\\tkeySignature-FM\\ttimeSignature-C\\tbarline\\tbarline',\n",
       " 'clef-C1\\tkeySignature-BbM\\ttimeSignature-C\\tbarline',\n",
       " 'clef-G2\\tkeySignature-FM\\ttimeSignature-3/4\\tbarline',\n",
       " 'clef-C1\\tkeySignature-FM\\tbarline\\tbarline\\tbarline\\tbarline\\tbarline',\n",
       " 'clef-G2\\ttimeSignature-C\\ttimeSignature-C\\tbarline\\tbarline\\tbarline',\n",
       " 'clef-G2\\tkeySignature-FM\\ttimeSignature-C\\tbarline\\tbarline\\tbarline\\tbarline\\tbarline\\tbarline',\n",
       " 'clef-C4\\tkeySignature-BbM\\ttimeSignature-3/8\\tbarline',\n",
       " 'clef-G2\\tkeySignature-BbM\\ttimeSignature-C\\tbarline\\tbarline\\tbarline',\n",
       " 'clef-G2\\tkeySignature-BbM\\ttimeSignature-3/4\\tbarline',\n",
       " 'clef-G2\\tkeySignature-FM\\ttimeSignature-C/\\tbarline\\tbarline\\tbarline',\n",
       " 'clef-G2\\tkeySignature-BbM\\ttimeSignature-C\\tbarline\\tbarline\\tbarline',\n",
       " 'clef-F4\\tkeySignature-BbM\\ttimeSignature-C\\tbarline\\tnote-G3_quarter',\n",
       " 'clef-G2\\tkeySignature-FM\\ttimeSignature-C/\\tbarline\\tbarline',\n",
       " 'clef-G2\\tkeySignature-GM\\ttimeSignature-C\\tbarline',\n",
       " 'clef-G2\\tkeySignature-GM\\ttimeSignature-3/4\\tbarline\\tbarline\\tbarline',\n",
       " 'clef-G2\\tkeySignature-BbM\\ttimeSignature-2/4\\tbarline\\tbarline\\tbarline',\n",
       " 'clef-G2\\tkeySignature-GM\\ttimeSignature-3/4\\tbarline\\tbarline\\tbarline\\tbarline',\n",
       " 'clef-G2\\tkeySignature-AM\\ttimeSignature-C\\tbarline\\tbarline\\tbarline\\tbarline',\n",
       " 'clef-G2\\tkeySignature-FM\\ttimeSignature-C\\tbarline\\tbarline',\n",
       " 'clef-C1\\tkeySignature-EbM\\ttimeSignature-3/8\\tbarline',\n",
       " 'clef-C1\\tkeySignature-BbM\\ttimeSignature-C\\tbarline\\tbarline',\n",
       " 'clef-C1\\tkeySignature-BbM\\ttimeSignature-2/4\\tbarline',\n",
       " 'clef-C1\\tkeySignature-BbM\\ttimeSignature-C\\tbarline\\tbarline\\tbarline\\tbarline',\n",
       " 'clef-C1\\ttimeSignature-C',\n",
       " 'clef-G2\\tkeySignature-BbM\\ttimeSignature-C\\tbarline',\n",
       " 'clef-C1\\tkeySignature-DM\\ttimeSignature-3/4\\tbarline\\tbarline\\tbarline\\trest-quarter\\tbarline',\n",
       " 'clef-C1\\tkeySignature-GM\\ttimeSignature-C\\tbarline\\tbarline\\tbarline',\n",
       " 'clef-C1\\ttimeSignature-C\\ttimeSignature-C\\tbarline',\n",
       " 'clef-F4\\tkeySignature-BbM\\ttimeSignature-C\\tbarline',\n",
       " 'clef-F4\\tkeySignature-FM\\ttimeSignature-C\\tbarline\\tbarline',\n",
       " 'clef-C1\\tkeySignature-EbM\\ttimeSignature-3/4\\tbarline\\tbarline',\n",
       " 'clef-C1\\tkeySignature-FM\\ttimeSignature-C\\tbarline\\tbarline\\tbarline\\tbarline\\tbarline\\tbarline\\tbarline',\n",
       " 'clef-C1\\tkeySignature-BbM\\ttimeSignature-C\\tbarline\\tbarline\\tbarline\\tbarline\\tbarline\\tbarline\\tbarline',\n",
       " 'clef-G2\\tkeySignature-EbM\\ttimeSignature-C\\tbarline\\tbarline',\n",
       " 'clef-G2\\ttimeSignature-C\\tbarline\\tbarline',\n",
       " 'clef-C1\\tkeySignature-AM\\ttimeSignature-3/4\\tbarline\\tbarline',\n",
       " 'clef-G2\\tkeySignature-BbM\\ttimeSignature-2/4\\tbarline',\n",
       " 'clef-C1\\tkeySignature-EbM\\ttimeSignature-C\\tbarline\\tbarline\\tbarline',\n",
       " 'clef-G2\\tkeySignature-FM\\ttimeSignature-3/4\\tbarline\\tbarline',\n",
       " 'clef-C1\\tkeySignature-FM\\ttimeSignature-3/4\\tbarline\\tbarline\\tbarline',\n",
       " 'clef-G2\\ttimeSignature-C/\\tbarline\\tbarline\\tbarline',\n",
       " 'clef-G2\\tkeySignature-FM\\tbarline\\tbarline\\tbarline\\tbarline',\n",
       " 'clef-G2\\tkeySignature-FM\\ttimeSignature-3/4\\tbarline\\tbarline',\n",
       " 'clef-G2\\ttimeSignature-C\\tbarline',\n",
       " 'clef-G2\\ttimeSignature-C/\\tbarline\\tbarline',\n",
       " 'clef-G2\\ttimeSignature-C/\\tbarline\\tbarline\\tbarline',\n",
       " 'clef-F4\\ttimeSignature-C\\tbarline',\n",
       " 'clef-G2\\ttimeSignature-C\\tbarline\\tbarline',\n",
       " 'clef-G2\\tkeySignature-FM\\ttimeSignature-C\\tbarline',\n",
       " 'clef-G2\\ttimeSignature-C/\\tbarline\\tnote-G5_quarter',\n",
       " 'clef-G2\\tkeySignature-FM\\ttimeSignature-C\\tbarline\\tbarline\\tbarline',\n",
       " 'clef-G2\\tkeySignature-FM\\ttimeSignature-C/\\tbarline',\n",
       " 'clef-G2\\ttimeSignature-C\\ttimeSignature-C\\tbarline\\tbarline',\n",
       " 'clef-C1\\tkeySignature-FM\\ttimeSignature-C\\tbarline\\tbarline',\n",
       " 'clef-C1\\tkeySignature-EbM\\ttimeSignature-C\\tbarline',\n",
       " 'clef-C4\\tkeySignature-BbM\\ttimeSignature-C\\tbarline\\tbarline',\n",
       " 'clef-C1\\tkeySignature-BbM\\ttimeSignature-C\\tbarline',\n",
       " 'clef-G2\\tkeySignature-GM\\ttimeSignature-6/8\\tbarline\\tbarline',\n",
       " 'clef-G2\\tkeySignature-AM\\ttimeSignature-3/4\\tbarline',\n",
       " 'clef-G2\\tkeySignature-GM\\ttimeSignature-2/4\\tbarline\\tbarline',\n",
       " 'clef-C1\\tkeySignature-FM\\ttimeSignature-C\\trest-quarter\\tbarline',\n",
       " 'clef-G2\\tkeySignature-BbM\\trest-quarter\\tbarline',\n",
       " 'clef-C1\\tkeySignature-FM\\ttimeSignature-C\\tbarline\\tbarline\\tbarline',\n",
       " 'clef-G2\\ttimeSignature-C\\ttimeSignature-C\\tbarline\\tbarline\\tbarline\\tbarline',\n",
       " 'clef-G2\\tkeySignature-FM\\ttimeSignature-C\\tbarline\\tbarline\\tbarline\\tbarline\\tbarline\\tbarline',\n",
       " 'clef-G2\\tkeySignature-FM\\ttimeSignature-C\\tbarline\\tbarline\\tbarline\\tbarline\\tbarline\\tbarline\\tbarline']"
      ]
     },
     "execution_count": 73,
     "metadata": {},
     "output_type": "execute_result"
    }
   ],
   "source": [
    "ground_truth = data[\"test\"][\"text\"]\n",
    "preds = model.predict(test_dataset)\n",
    "prediction = data_obj.prediction_decoder(preds)\n",
    "prediction"
   ]
  },
  {
   "cell_type": "markdown",
   "metadata": {},
   "source": [
    "## Evaluating the model"
   ]
  },
  {
   "cell_type": "code",
   "execution_count": 114,
   "metadata": {},
   "outputs": [],
   "source": [
    "# Helper function\n",
    "def plot_sample(data, prediction, index):\n",
    "    image = data[\"images\"][index]\n",
    "    ground_truth = data[\"text\"]\n",
    "    ground_truth = data_obj.ground_truth_decoder(ground_truth)[index]\n",
    "    prediction_one = prediction[index]\n",
    "    plot = cv2.imread(image)\n",
    "    plt.imshow(plot)\n",
    "    plt.show()\n",
    "    print(\"\\nGround Truth : \", ground_truth)\n",
    "    print(\"\\nPrediction   : \", prediction_one)\n",
    "\n",
    "# Symbol error rate\n",
    "def ser(y_true, y_pred, index = None):\n",
    "    y_true = jiwer.RemoveWhiteSpace(replace_by_space=True)(data_obj.ground_truth_decoder(y_true))\n",
    "    y_pred = jiwer.RemoveWhiteSpace(replace_by_space=True)(y_pred)\n",
    "    if index is not None:\n",
    "        error = jiwer.wer(y_true[index], y_pred[index])\n",
    "    else:\n",
    "        error = error = jiwer.wer(y_true, y_pred)\n",
    "    return error"
   ]
  },
  {
   "cell_type": "markdown",
   "metadata": {},
   "source": [
    "### Average Error Rate and Accuracy"
   ]
  },
  {
   "cell_type": "code",
   "execution_count": 108,
   "metadata": {},
   "outputs": [
    {
     "data": {
      "text/plain": [
       "0.8232549458753267"
      ]
     },
     "execution_count": 108,
     "metadata": {},
     "output_type": "execute_result"
    }
   ],
   "source": [
    "# Average Error Rate\n",
    "avg_ser = ser(ground_truth,prediction)\n",
    "avg_ser"
   ]
  },
  {
   "cell_type": "code",
   "execution_count": 109,
   "metadata": {},
   "outputs": [
    {
     "data": {
      "text/plain": [
       "0.17674505412467334"
      ]
     },
     "execution_count": 109,
     "metadata": {},
     "output_type": "execute_result"
    }
   ],
   "source": [
    "# Average Accuracy\n",
    "avg_sacc = 1-avg_ser\n",
    "avg_sacc"
   ]
  },
  {
   "cell_type": "markdown",
   "metadata": {},
   "source": [
    "### Samples"
   ]
  },
  {
   "cell_type": "code",
   "execution_count": 110,
   "metadata": {},
   "outputs": [],
   "source": [
    "sers = []\n",
    "for i in range(len(ground_truth)):\n",
    "    sers.append(ser(ground_truth,prediction,i))\n",
    "\n",
    "sers = np.array(sers)\n",
    "sorted_sers = np.argsort(sers)"
   ]
  },
  {
   "cell_type": "markdown",
   "metadata": {},
   "source": [
    "#### Best Samples"
   ]
  },
  {
   "cell_type": "code",
   "execution_count": 116,
   "metadata": {},
   "outputs": [
    {
     "data": {
      "image/png": "[encoded data removed]",
      "text/plain": [
       "<Figure size 432x288 with 1 Axes>"
      ]
     },
     "metadata": {
      "needs_background": "light"
     },
     "output_type": "display_data"
    },
    {
     "name": "stdout",
     "output_type": "stream",
     "text": [
      "\n",
      "Ground Truth :  clef-G2\tkeySignature-EbM\ttimeSignature-C\tnote-Eb4_whole\tbarline\tnote-G4_whole\tbarline\tnote-F4_whole\tbarline\tnote-C5_whole\tbarline\n",
      "\n",
      "Prediction   :  clef-G2\tkeySignature-BbM\ttimeSignature-C\tbarline\tbarline\tbarline\tbarline\n",
      "SER          :  0.45454545454545453\n"
     ]
    }
   ],
   "source": [
    "plot_sample(data[\"test\"], prediction, sorted_sers[0])\n",
    "print(\"SER          : \", sers[sorted_sers[0]])"
   ]
  },
  {
   "cell_type": "code",
   "execution_count": 117,
   "metadata": {},
   "outputs": [
    {
     "data": {
      "image/png": "[encoded data removed]",
      "text/plain": [
       "<Figure size 432x288 with 1 Axes>"
      ]
     },
     "metadata": {
      "needs_background": "light"
     },
     "output_type": "display_data"
    },
    {
     "name": "stdout",
     "output_type": "stream",
     "text": [
      "\n",
      "Ground Truth :  clef-C1\tkeySignature-FM\ttimeSignature-C\tmultirest-7\tbarline\tnote-A4_whole\tbarline\tnote-A4_half\tnote-A4_half\tbarline\tnote-G4_half\tnote-A4_half\tbarline\tnote-F4_half\tnote-D4_half\tbarline\tnote-D4_quarter\n",
      "\n",
      "Prediction   :  clef-C1\tkeySignature-FM\ttimeSignature-C\tbarline\tbarline\tbarline\tbarline\tbarline\tbarline\n",
      "SER          :  0.5294117647058824\n"
     ]
    }
   ],
   "source": [
    "plot_sample(data[\"test\"], prediction, sorted_sers[1])\n",
    "print(\"SER          : \", sers[sorted_sers[1]])"
   ]
  },
  {
   "cell_type": "markdown",
   "metadata": {},
   "source": [
    "#### Worst samples"
   ]
  },
  {
   "cell_type": "code",
   "execution_count": 119,
   "metadata": {},
   "outputs": [
    {
     "data": {
      "image/png": "[encoded data removed]",
      "text/plain": [
       "<Figure size 432x288 with 1 Axes>"
      ]
     },
     "metadata": {
      "needs_background": "light"
     },
     "output_type": "display_data"
    },
    {
     "name": "stdout",
     "output_type": "stream",
     "text": [
      "\n",
      "Ground Truth :  clef-C2\ttimeSignature-C/\tnote-D4_whole\tbarline\tnote-B3_whole\tbarline\trest-half\tnote-G4_half\tbarline\tnote-E4_whole\tnote-A3_half\tnote-D4_half\ttie\tbarline\tnote-D4_half\tnote-C#4_half\tbarline\tnote-D4_half\tnote-D4_half\tbarline\tnote-A3_whole\tbarline\n",
      "\n",
      "Prediction   :  clef-C3\tkeySignature-FM\ttimeSignature-C\tbarline\n",
      "SER          :  0.9545454545454546\n"
     ]
    }
   ],
   "source": [
    "plot_sample(data[\"test\"], prediction, sorted_sers[-2])\n",
    "print(\"SER          : \", sers[sorted_sers[-2]])"
   ]
  },
  {
   "cell_type": "code",
   "execution_count": 118,
   "metadata": {},
   "outputs": [
    {
     "data": {
      "image/png": "[encoded data removed]",
      "text/plain": [
       "<Figure size 432x288 with 1 Axes>"
      ]
     },
     "metadata": {
      "needs_background": "light"
     },
     "output_type": "display_data"
    },
    {
     "name": "stdout",
     "output_type": "stream",
     "text": [
      "\n",
      "Ground Truth :  clef-C4\tkeySignature-EbM\ttimeSignature-6/8\tnote-Eb4_quarter.\tgracenote-F4_eighth\tnote-Eb4_eighth\tnote-D4_eighth\tnote-Eb4_eighth\tbarline\tnote-F4_eighth\tnote-F4_sixteenth\tnote-G4_sixteenth\tnote-F4_sixteenth\tnote-Eb4_sixteenth\tnote-D4_eighth\trest-eighth\trest-eighth\tbarline\tnote-F4_quarter.\tgracenote-G4_eighth\tnote-F4_eighth\tnote-Eb4_eighth\tnote-F4_eighth\tbarline\tnote-G4_eighth\tnote-G4_sixteenth\tnote-Ab4_sixteenth\tnote-Bb4_sixteenth\tnote-Ab4_sixteenth\tnote-G4_eighth\trest-eighth\trest-eighth\tbarline\n",
      "\n",
      "Prediction   :  clef-C3\tkeySignature-GM\ttimeSignature-C\tbarline\n",
      "SER          :  0.9696969696969697\n"
     ]
    }
   ],
   "source": [
    "plot_sample(data[\"test\"], prediction, sorted_sers[-1])\n",
    "print(\"SER          : \", sers[sorted_sers[-1]])"
   ]
  },
  {
   "cell_type": "markdown",
   "metadata": {},
   "source": [
    "# Plotting loss"
   ]
  },
  {
   "cell_type": "code",
   "execution_count": 70,
   "metadata": {},
   "outputs": [
    {
     "data": {
      "text/plain": [
       "<matplotlib.legend.Legend at 0x1a1032d3790>"
      ]
     },
     "execution_count": 70,
     "metadata": {},
     "output_type": "execute_result"
    },
    {
     "data": {
      "image/png": "[encoded data removed]",
      "text/plain": [
       "<Figure size 432x288 with 1 Axes>"
      ]
     },
     "metadata": {
      "needs_background": "light"
     },
     "output_type": "display_data"
    }
   ],
   "source": [
    "import pandas as pd\n",
    "\n",
    "train_losses = pd.read_csv(\"C:/Users/steli/DeepLearning/Project/dl_omr/data/run-20220604-013754_train-tag-epoch_loss.csv\")\n",
    "val_losses = pd.read_csv(\"C:/Users/steli/DeepLearning/Project/dl_omr/data/run-20220604-013754_validation-tag-epoch_loss.csv\")\n",
    "losses = pd.merge(train_losses, val_losses, on= \"Step\")\n",
    "losses.head(25).plot(x = \"Step\", y= [\"Value_x\",\"Value_y\"], xlabel= \"Epochs\", ylabel= \"Loss\")\n",
    "plt.legend(['Training Loss', 'Validation Loss'])"
   ]
  }
 ],
 "metadata": {
  "interpreter": {
   "hash": "e9bbe03f6c4bbdf56f443191d16980388af1b731aba7be9951b0256cee325895"
  },
  "kernelspec": {
   "display_name": "Python 3.10.4 ('tf-gpu')",
   "language": "python",
   "name": "python3"
  },
  "language_info": {
   "codemirror_mode": {
    "name": "ipython",
    "version": 3
   },
   "file_extension": ".py",
   "mimetype": "text/x-python",
   "name": "python",
   "nbconvert_exporter": "python",
   "pygments_lexer": "ipython3",
   "version": "3.10.4"
  },
  "orig_nbformat": 4
 },
 "nbformat": 4,
 "nbformat_minor": 2
}
